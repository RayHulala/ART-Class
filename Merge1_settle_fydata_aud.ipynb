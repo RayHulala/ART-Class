{
 "cells": [
  {
   "cell_type": "code",
   "execution_count": 24,
   "metadata": {
    "collapsed": false
   },
   "outputs": [],
   "source": [
    "%matplotlib inline\n",
    "import pandas as pd\n",
    "from IPython.core.display import HTML\n",
    "import numpy as np\n",
    "import matplotlib.pyplot as plt"
   ]
  },
  {
   "cell_type": "code",
   "execution_count": 25,
   "metadata": {
    "collapsed": false
   },
   "outputs": [],
   "source": [
    "settle = pd.DataFrame.from_csv('settle_full.csv', index_col=None)\n",
    "fydata = pd.DataFrame.from_csv('fydata.csv', index_col=None)\n",
    "\n",
    "ABRT = pd.DataFrame.from_csv('ABRT.csv',index_col=None)"
   ]
  },
  {
   "cell_type": "code",
   "execution_count": null,
   "metadata": {
    "collapsed": true
   },
   "outputs": [],
   "source": []
  },
  {
   "cell_type": "code",
   "execution_count": null,
   "metadata": {
    "collapsed": true
   },
   "outputs": [],
   "source": []
  },
  {
   "cell_type": "code",
   "execution_count": 26,
   "metadata": {
    "collapsed": true
   },
   "outputs": [],
   "source": [
    "settle = settle.rename(columns={'Month':'month'})\n",
    "settle['year'] = pd.DatetimeIndex(settle['classend']).year\n",
    "fydata = fydata.rename(columns={'datadate':'date'})\n",
    "fydata['date'] = pd.to_datetime(fydata['date'].astype(str), format='%m/%d/%Y')\n",
    "fydata['year'] = pd.DatetimeIndex(fydata['date']).year\n",
    "fydata['month'] = pd.DatetimeIndex(fydata['date']).month\n",
    "fydata = fydata.rename(columns={'month':'f_month'})\n",
    "m_fydata = fydata[['tic', 'year','f_month']]"
   ]
  },
  {
   "cell_type": "code",
   "execution_count": 27,
   "metadata": {
    "collapsed": true
   },
   "outputs": [],
   "source": [
    "fydata['wcap_1'] = fydata.wcap.shift(1)\n",
    "fydata['dwcap'] = fydata.wcap - fydata.wcap_1\n",
    "fydata['ebit_1'] = fydata.ebit.shift(1)\n",
    "fydata['fcf'] = fydata.ebit - fydata.txpd + fydata.dp - fydata.dwcap - fydata.capx\n",
    "fydata['fcf_1'] = fydata.fcf.shift(1)\n",
    "fydata['size'] = np.log(fydata['mkvalt'])\n",
    "\n",
    "fydata.dt = fydata.dt.replace({ 0 : np.nan })\n",
    "\n",
    "\n",
    "fydata['debtratio'] = fydata['dltt'].div(fydata['at'], axis=0)\n",
    "\n",
    "fydata['M2B'] = fydata['mkvalt'].div(fydata['at'], axis=0)"
   ]
  },
  {
   "cell_type": "code",
   "execution_count": 28,
   "metadata": {
    "collapsed": false
   },
   "outputs": [],
   "source": [
    "m1_settle = pd.merge(settle, m_fydata, how='left', on=['tic', 'year'])\n",
    "\n",
    "m1_settle = m1_settle.rename(columns={'year':'ceyr'})\n",
    "\n",
    "def yearcheck (row):\n",
    "    if row ['month']>row ['f_month']:\n",
    "        return row['ceyr'] + 1\n",
    "    return row['ceyr']\n",
    "\n",
    "m1_settle['year'] = m1_settle.apply (lambda row: yearcheck (row),axis=1)\n",
    "\n",
    "m1_settle['styr'] = pd.DatetimeIndex(m1_settle['settledate']).year\n",
    "\n",
    "def yearchecks (row):\n",
    "    if row ['month']>row ['f_month']:\n",
    "        return row['styr'] + 1\n",
    "    return row['styr']\n",
    "\n",
    "m1_settle['styr'] = m1_settle.apply (lambda row: yearchecks (row),axis=1)\n",
    "#Merge finished for FI and Settle"
   ]
  },
  {
   "cell_type": "code",
   "execution_count": 29,
   "metadata": {
    "collapsed": false
   },
   "outputs": [],
   "source": [
    "m1_settle = m1_settle.drop_duplicates(subset = ['number'])"
   ]
  },
  {
   "cell_type": "code",
   "execution_count": 30,
   "metadata": {
    "collapsed": false
   },
   "outputs": [],
   "source": [
    "# class end date data set\n",
    "me_fi_ce = pd.merge(m1_settle, fydata, how = 'left', on = ['tic', 'year'])\n",
    "\n",
    "me_fi_ce = me_fi_ce.rename(columns={'at':'at_ce', 'capx':'capx_ce', 'ceq':'ceq_ce','revt':'revt_ce',\n",
    "       'dltt':'dltt_ce', 'dp':'dp_ce', 'dt':'dt_ce', 'optrfr':'optrfr_ce', 'setp':'setp_ce', 'txpd':'txpd_ce', 'wcap':'wcap_ce',\n",
    "       'xintd':'xintd_ce', 'mkvalt':'mkvalt_ce', 'wcap_1':'wcap_1_ce', 'dwcap':'dwcap_ce', 'fcf':'fcf_ce','fcf_1':'fcf_1_ce','size':'size_ce', \n",
    "        'debtratio':'debtratio_ce','M2B':'M2B_ce', 'at_log':'at_log_ce'})\n",
    "\n",
    "\n",
    "me_fi_ce = me_fi_ce.drop(['month', 'gap', 'sic_x','tic.1',\n",
    "       'lgap', 'f_month_x', 'year', 'gvkey', 'date','sic_y', 'f_month_y',], axis=1)"
   ]
  },
  {
   "cell_type": "code",
   "execution_count": 31,
   "metadata": {
    "collapsed": false
   },
   "outputs": [],
   "source": [
    "me_fi_ce = me_fi_ce.drop_duplicates(subset = ['tic','settledate'])"
   ]
  },
  {
   "cell_type": "code",
   "execution_count": 32,
   "metadata": {
    "collapsed": false
   },
   "outputs": [],
   "source": [
    "# settlemt date dataset\n",
    "m1_settle['year'] = pd.DatetimeIndex(m1_settle['settledate']).year\n",
    "\n",
    "me_fi_st = pd.merge(m1_settle, fydata, how = 'left', on = ['tic', 'year'])\n",
    "\n",
    "me_fi_st = me_fi_st.rename(columns={'at':'at_st', 'capx':'capx_st', 'ceq':'ceq_st','revt':'revt_st',\n",
    "       'dltt':'dltt_st', 'dp':'dp_st', 'dt':'dt_st', 'optrfr':'optrfr_st', 'setp':'setp_st', 'txpd':'txpd_st', 'wacp':'wcap_st',\n",
    "       'xintd':'xintd_st', 'mkvalt':'mkvalt_st', 'wcap_1':'wcap_1_st', 'dwcap':'dwcap_st', 'fcf':'fcf_st','fcf_1':'fcf_1_st','size':'size_st', \n",
    "        'debtratio':'debtratio_st','M2B':'M2B_st', 'at_log':'at_log_st'})\n",
    "\n",
    "me_fi_st = me_fi_st.drop(['sic_x','f_month_x','tic.1','case', 'classification',\n",
    "       'Accounting', 'Secondary Market & Trading', 'Financial Intermediatary',\n",
    "       'Non-Accounting disclsoure and misrepresentation', 'Others',], axis=1)\n",
    "\n",
    "me_fi_st = me_fi_st.rename(columns={'sic_y':'sic','f_month_y':'f_month'})\n",
    "me_fi_st= me_fi_st.drop_duplicates(subset = ['number'])"
   ]
  },
  {
   "cell_type": "code",
   "execution_count": 33,
   "metadata": {
    "collapsed": false
   },
   "outputs": [],
   "source": [
    "ABRT = pd.DataFrame.from_csv('ABRT.csv', index_col=None)\n",
    "\n",
    "ABRT = ABRT.drop_duplicates(subset=['ticker', 'evtdate'])\n",
    "\n",
    "ABRT['evtdate'] = pd.to_datetime(ABRT['evtdate'] .astype(str), format='%d%b%Y')\n",
    "\n"
   ]
  },
  {
   "cell_type": "code",
   "execution_count": null,
   "metadata": {
    "collapsed": true
   },
   "outputs": [],
   "source": []
  },
  {
   "cell_type": "code",
   "execution_count": 34,
   "metadata": {
    "collapsed": false
   },
   "outputs": [
    {
     "data": {
      "text/plain": [
       "Index(['number', 'tic', 'settledate', 'classend', 'ceyr', 'month', 'gap',\n",
       "       'lgap', 'settleamt', 'year', 'styr', 'gvkey', 'date', 'fyear', 'at_st',\n",
       "       'capx_st', 'ceq_st', 'dltt_st', 'dp_st', 'dt_st', 'ebit', 'revt_st',\n",
       "       'setp_st', 'txpd_st', 'wcap', 'xintd_st', 'mkvalt_st', 'sic', 'f_month',\n",
       "       'wcap_1_st', 'dwcap_st', 'ebit_1', 'fcf_st', 'fcf_1_st', 'size_st',\n",
       "       'debtratio_st', 'M2B_st'],\n",
       "      dtype='object')"
      ]
     },
     "execution_count": 34,
     "metadata": {},
     "output_type": "execute_result"
    }
   ],
   "source": [
    "me_fi_st.columns"
   ]
  },
  {
   "cell_type": "code",
   "execution_count": null,
   "metadata": {
    "collapsed": true
   },
   "outputs": [],
   "source": []
  },
  {
   "cell_type": "code",
   "execution_count": 35,
   "metadata": {
    "collapsed": false
   },
   "outputs": [],
   "source": [
    "me_fi_ce= me_fi_ce.drop(['classend', 'ceyr', 'settleamt','styr','case'], axis=1)"
   ]
  },
  {
   "cell_type": "code",
   "execution_count": 36,
   "metadata": {
    "collapsed": false
   },
   "outputs": [],
   "source": [
    "\n",
    "\n",
    "me_fi_ce = me_fi_ce.rename(columns={'fyear':'fyear_ce','ebit':'ebit_ce','ebit_1':'ebit_1_ce'})\n",
    "me_fi_st= me_fi_st.rename(columns={'fyear':'fyear_st','ebit':'ebit_st','ebit_1':'ebit_1_st'})\n",
    "\n",
    "\n",
    "\n",
    "mefi = pd.merge (me_fi_st, me_fi_ce, how = \"inner\", on =['number','tic','settledate'])\n",
    "\n",
    "mefi['settledate'] = pd.to_datetime(mefi['settledate'] .astype(str), format=\"%m/%d/%Y\")\n",
    "mefi['classend'] = pd.to_datetime(mefi['classend'] .astype(str), format=\"%m/%d/%Y\")\n",
    "\n",
    "\n",
    "\n",
    "\n",
    "\n",
    "\n",
    "ABRT = ABRT [['ticker','evtdate','cret','car','bhar']]\n",
    "\n",
    "ABRT [['cret','car','bhar']] = ABRT [['cret','car','bhar']]*100\n",
    "\n",
    "mefi['styr'] = pd.DatetimeIndex(mefi['settledate']).year\n",
    "mefi['ceyr'] = pd.DatetimeIndex(mefi['classend']).year\n",
    "\n",
    "ABRT = ABRT.rename(columns={'ticker':'tic','evtdate':'settledate'})\n",
    "\n",
    "settledata = pd.merge (ABRT, mefi, how = \"inner\", on =['tic','settledate'])\n"
   ]
  },
  {
   "cell_type": "code",
   "execution_count": 37,
   "metadata": {
    "collapsed": true
   },
   "outputs": [],
   "source": [
    "settledata = settledata.drop_duplicates(subset = ['tic','settledate'])"
   ]
  },
  {
   "cell_type": "code",
   "execution_count": 38,
   "metadata": {
    "collapsed": true
   },
   "outputs": [],
   "source": [
    "settledata.to_csv('settledata.csv', encoding='utf-8',index=False)"
   ]
  },
  {
   "cell_type": "code",
   "execution_count": 39,
   "metadata": {
    "collapsed": false
   },
   "outputs": [
    {
     "data": {
      "text/plain": [
       "Index(['tic', 'settledate', 'cret', 'car', 'bhar', 'number', 'classend',\n",
       "       'ceyr', 'month', 'gap', 'lgap', 'settleamt', 'year', 'styr', 'gvkey',\n",
       "       'date', 'fyear_st', 'at_st', 'capx_st', 'ceq_st', 'dltt_st', 'dp_st',\n",
       "       'dt_st', 'ebit_st', 'revt_st', 'setp_st', 'txpd_st', 'wcap', 'xintd_st',\n",
       "       'mkvalt_st', 'sic', 'f_month', 'wcap_1_st', 'dwcap_st', 'ebit_1_st',\n",
       "       'fcf_st', 'fcf_1_st', 'size_st', 'debtratio_st', 'M2B_st',\n",
       "       'classification', 'Accounting', 'Secondary Market & Trading',\n",
       "       'Financial Intermediatary',\n",
       "       'Non-Accounting disclsoure and misrepresentation', 'Others', 'fyear_ce',\n",
       "       'at_ce', 'capx_ce', 'ceq_ce', 'dltt_ce', 'dp_ce', 'dt_ce', 'ebit_ce',\n",
       "       'revt_ce', 'setp_ce', 'txpd_ce', 'wcap_ce', 'xintd_ce', 'mkvalt_ce',\n",
       "       'wcap_1_ce', 'dwcap_ce', 'ebit_1_ce', 'fcf_ce', 'fcf_1_ce', 'size_ce',\n",
       "       'debtratio_ce', 'M2B_ce'],\n",
       "      dtype='object')"
      ]
     },
     "execution_count": 39,
     "metadata": {},
     "output_type": "execute_result"
    }
   ],
   "source": [
    "settledata.columns"
   ]
  },
  {
   "cell_type": "code",
   "execution_count": null,
   "metadata": {
    "collapsed": true
   },
   "outputs": [],
   "source": []
  },
  {
   "cell_type": "code",
   "execution_count": null,
   "metadata": {
    "collapsed": true
   },
   "outputs": [],
   "source": []
  }
 ],
 "metadata": {
  "kernelspec": {
   "display_name": "Python 3",
   "language": "python",
   "name": "python3"
  },
  "language_info": {
   "codemirror_mode": {
    "name": "ipython",
    "version": 3
   },
   "file_extension": ".py",
   "mimetype": "text/x-python",
   "name": "python",
   "nbconvert_exporter": "python",
   "pygments_lexer": "ipython3",
   "version": "3.5.1"
  }
 },
 "nbformat": 4,
 "nbformat_minor": 0
}
