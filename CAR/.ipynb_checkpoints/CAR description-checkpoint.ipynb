{
 "cells": [
  {
   "cell_type": "code",
   "execution_count": 2,
   "metadata": {
    "collapsed": true
   },
   "outputs": [],
   "source": [
    "import pandas as pd\n",
    "from IPython.core.display import HTML\n",
    "import numpy as np\n",
    "import matplotlib.pyplot as plt\n",
    "import seaborn as sns\n",
    "from mpl_toolkits.mplot3d import Axes3D"
   ]
  },
  {
   "cell_type": "code",
   "execution_count": 3,
   "metadata": {
    "collapsed": true
   },
   "outputs": [],
   "source": [
    "tb = pd.DataFrame.from_csv('table car.csv', index_col=None)"
   ]
  },
  {
   "cell_type": "code",
   "execution_count": null,
   "metadata": {
    "collapsed": true
   },
   "outputs": [],
   "source": []
  },
  {
   "cell_type": "code",
   "execution_count": 4,
   "metadata": {
    "collapsed": false
   },
   "outputs": [
    {
     "name": "stdout",
     "output_type": "stream",
     "text": [
      "\\begin{tabular}{cccccc}\n",
      "\\toprule\n",
      "event win & Mean CERT & Mean CAR & Mean BHAR &  Partell Z &  T SCAR \\\\\n",
      "\\midrule\n",
      "    -4, 7 &     3.00\\% &    2.42\\% &     3.19\\% &      3.151 &   1.633 \\\\\n",
      "    -4, 8 &     2.40\\% &    2.21\\% &     2.65\\% &      3.247 &   1.807 \\\\\n",
      "    -5, 6 &     1.21\\% &    1.69\\% &     1.80\\% &      3.036 &   1.724 \\\\\n",
      "    -5, 7 &     2.79\\% &    2.35\\% &     2.99\\% &      3.021 &   1.584 \\\\\n",
      "    -5, 8 &     2.20\\% &    2.14\\% &     2.45\\% &      3.106 &   1.753 \\\\\n",
      "    -5, 9 &     1.59\\% &    2.50\\% &     1.71\\% &      2.972 &   1.708 \\\\\n",
      "    -6, 7 &     3.16\\% &    2.98\\% &     3.73\\% &      3.772 &   1.922 \\\\\n",
      "    -6, 8 &     2.53\\% &    2.81\\% &     3.21\\% &      3.828 &   2.082 \\\\\n",
      "    -6, 9 &     1.88\\% &    3.14\\% &     2.39\\% &      3.627 &   2.005 \\\\\n",
      "\\bottomrule\n",
      "\\end{tabular}\n",
      "\n"
     ]
    }
   ],
   "source": [
    "print (tb.to_latex(index=False,column_format= 'cccccc'))"
   ]
  },
  {
   "cell_type": "code",
   "execution_count": null,
   "metadata": {
    "collapsed": true
   },
   "outputs": [],
   "source": []
  }
 ],
 "metadata": {
  "kernelspec": {
   "display_name": "Python 3",
   "language": "python",
   "name": "python3"
  },
  "language_info": {
   "codemirror_mode": {
    "name": "ipython",
    "version": 3
   },
   "file_extension": ".py",
   "mimetype": "text/x-python",
   "name": "python",
   "nbconvert_exporter": "python",
   "pygments_lexer": "ipython3",
   "version": "3.5.1"
  }
 },
 "nbformat": 4,
 "nbformat_minor": 0
}
