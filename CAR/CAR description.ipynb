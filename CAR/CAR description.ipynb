{
 "cells": [
  {
   "cell_type": "code",
   "execution_count": 1,
   "metadata": {
    "collapsed": true
   },
   "outputs": [],
   "source": [
    "import pandas as pd\n",
    "from IPython.core.display import HTML\n",
    "import numpy as np\n",
    "import matplotlib.pyplot as plt\n",
    "import seaborn as sns\n",
    "from mpl_toolkits.mplot3d import Axes3D"
   ]
  },
  {
   "cell_type": "code",
   "execution_count": 4,
   "metadata": {
    "collapsed": true
   },
   "outputs": [],
   "source": [
    "tb = pd.DataFrame.from_csv('table car.csv', index_col=None)"
   ]
  },
  {
   "cell_type": "code",
   "execution_count": null,
   "metadata": {
    "collapsed": true
   },
   "outputs": [],
   "source": []
  },
  {
   "cell_type": "code",
   "execution_count": 5,
   "metadata": {
    "collapsed": false
   },
   "outputs": [
    {
     "name": "stdout",
     "output_type": "stream",
     "text": [
      "\\begin{tabular}{cccccc}\n",
      "\\toprule\n",
      "event win & Mean CERT & Mean CAR & Mean BHAR &  Partell Z &  T SCAR \\\\\n",
      "\\midrule\n",
      "    -5, 7 &     1.50\\% &    1.43\\% &     1.70\\% &      2.753 &   1.539 \\\\\n",
      "    -5, 8 &     1.18\\% &    1.33\\% &     1.36\\% &      2.756 &   1.627 \\\\\n",
      "    -5, 9 &     0.46\\% &    1.33\\% &     0.58\\% &      2.309 &   1.387 \\\\\n",
      "    -6, 6 &     0.97\\% &    1.59\\% &     1.48\\% &      3.173 &   1.809 \\\\\n",
      "    -6, 7 &     2.15\\% &    2.11\\% &     2.43\\% &      3.533 &   1.932 \\\\\n",
      "    -6, 8 &     1.82\\% &    2.00\\% &     2.10\\% &      3.479 &   1.999 \\\\\n",
      "    -6, 9 &     1.08\\% &    2.00\\% &     1.30\\% &      3.029 &   1.766 \\\\\n",
      "    -7, 7 &     2.03\\% &    2.02\\% &     2.09\\% &      3.841 &   2.127 \\\\\n",
      "    -7, 8 &     1.70\\% &    1.91\\% &     1.75\\% &      3.761 &   2.175 \\\\\n",
      "    -7, 9 &     1.10\\% &    1.91\\% &     1.08\\% &      3.308 &   1.937 \\\\\n",
      "\\bottomrule\n",
      "\\end{tabular}\n",
      "\n"
     ]
    }
   ],
   "source": [
    "print (tb.to_latex(index=False,column_format= 'cccccc'))"
   ]
  },
  {
   "cell_type": "code",
   "execution_count": null,
   "metadata": {
    "collapsed": true
   },
   "outputs": [],
   "source": []
  }
 ],
 "metadata": {
  "kernelspec": {
   "display_name": "Python 3",
   "language": "python",
   "name": "python3"
  },
  "language_info": {
   "codemirror_mode": {
    "name": "ipython",
    "version": 3
   },
   "file_extension": ".py",
   "mimetype": "text/x-python",
   "name": "python",
   "nbconvert_exporter": "python",
   "pygments_lexer": "ipython3",
   "version": "3.5.1"
  }
 },
 "nbformat": 4,
 "nbformat_minor": 0
}
