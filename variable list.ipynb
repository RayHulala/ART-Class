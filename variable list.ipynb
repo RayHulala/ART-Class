{
 "cells": [
  {
   "cell_type": "code",
   "execution_count": 1,
   "metadata": {
    "collapsed": true
   },
   "outputs": [],
   "source": [
    "import pandas as pd\n",
    "import numpy as np"
   ]
  },
  {
   "cell_type": "code",
   "execution_count": 2,
   "metadata": {
    "collapsed": true
   },
   "outputs": [],
   "source": [
    "tb = pd.read_excel('variable.xlsx', index_col=None)"
   ]
  },
  {
   "cell_type": "code",
   "execution_count": 15,
   "metadata": {
    "collapsed": false
   },
   "outputs": [
    {
     "data": {
      "text/plain": [
       "0                                                   NaN\n",
       "1     Variable corresponding to settlement event win...\n",
       "2     Variable corresponding to class end event wind...\n",
       "3                                                   NaN\n",
       "4     Cumulative abnormal return in a [-7,+7] event ...\n",
       "5     Cumulative total return in a [-7,+7] event window\n",
       "6     Buy-hold abnormal return in a [-7,+7] event wi...\n",
       "7                                                   NaN\n",
       "8     Monetary value paid to class members of the se...\n",
       "9     Number of month between class end date and set...\n",
       "10    Natrual logarithm of days between class end da...\n",
       "11    Number of news related to the firm during even...\n",
       "12    Binaray variable equals to 1 if the lawsuit is...\n",
       "13    Binaray variable equals to 1 if the lawsuit is...\n",
       "14    Binaray variable equals to 1 if the lawsuit is...\n",
       "15                                                  NaN\n",
       "16    Natrual logarithm of firms' market value obtai...\n",
       "17    Calculated as total debts divided by total equity\n",
       "18    Calculated by market value divided by book val...\n",
       "19              Eaernings before intersts and taxations\n",
       "20    Abnormal share tunrover: caculateed by event s...\n",
       "21        Precentage of institutional holding of a firm\n",
       "22                     Provison for the settlement fund\n",
       "Name: Definition, dtype: object"
      ]
     },
     "execution_count": 15,
     "metadata": {},
     "output_type": "execute_result"
    }
   ],
   "source": [
    "tb['Definition']"
   ]
  },
  {
   "cell_type": "code",
   "execution_count": 3,
   "metadata": {
    "collapsed": false
   },
   "outputs": [
    {
     "name": "stdout",
     "output_type": "stream",
     "text": [
      "\\begin{tabular}{ll}\n",
      "\\toprule\n",
      "              Variable &                                         Definition \\\\\n",
      "\\midrule\n",
      "                Suffix &                                                NaN \\\\\n",
      "                    ST &  Variable corresponding to settlement event win... \\\\\n",
      "                    CE &  Variable corresponding to class end event wind... \\\\\n",
      "  Stock market returns &                                                NaN \\\\\n",
      "                   CAR &  Cumulative abnormal return in a [-7,+7] event ... \\\\\n",
      "                  CRET &  Cumulative total return in a [-7,+7] event window \\\\\n",
      "                  BHAR &  Buy-hold abnormal return in a [-7,+7] event wi... \\\\\n",
      " Settlement attributes &                                                NaN \\\\\n",
      "            SETTLEFUND &  Monetary value paid to class members of the se... \\\\\n",
      "                   GAP &  Number of month between class end date and set... \\\\\n",
      "                  LGAP &  Natrual logarithm of days between class end da... \\\\\n",
      "                  NEWS &  Number of news related to the firm during even... \\\\\n",
      "            ACCOUNTING &  Binaray variable equals to 1 if the lawsuit is... \\\\\n",
      "      FINANCIAL MARKET &  Binaray variable equals to 1 if the lawsuit is... \\\\\n",
      "    NON-ACC DISCLOSURE &  Binaray variable equals to 1 if the lawsuit is... \\\\\n",
      "  Firm characteristics &                                                NaN \\\\\n",
      "                  SIZE &  Natrual logarithm of firms' market value obtai... \\\\\n",
      "             DEBTRATIO &  Calculated as total debts divided by total equity \\\\\n",
      "                   M2B &  Calculated by market value divided by book val... \\\\\n",
      "                  EBIT &            Eaernings before intersts and taxations \\\\\n",
      "                ABSHTO &  Abnormal share tunrover: caculateed by event s... \\\\\n",
      "              INST\\_PCT &      Precentage of institutional holding of a firm \\\\\n",
      "                  SETP &                   Provison for the settlement fund \\\\\n",
      "\\bottomrule\n",
      "\\end{tabular}\n",
      "\n"
     ]
    }
   ],
   "source": [
    "print (tb.to_latex(index=False,column_format= 'll'))"
   ]
  },
  {
   "cell_type": "code",
   "execution_count": null,
   "metadata": {
    "collapsed": true
   },
   "outputs": [],
   "source": []
  },
  {
   "cell_type": "code",
   "execution_count": null,
   "metadata": {
    "collapsed": true
   },
   "outputs": [],
   "source": []
  },
  {
   "cell_type": "code",
   "execution_count": null,
   "metadata": {
    "collapsed": true
   },
   "outputs": [],
   "source": []
  },
  {
   "cell_type": "code",
   "execution_count": null,
   "metadata": {
    "collapsed": true
   },
   "outputs": [],
   "source": []
  },
  {
   "cell_type": "code",
   "execution_count": null,
   "metadata": {
    "collapsed": true
   },
   "outputs": [],
   "source": []
  },
  {
   "cell_type": "code",
   "execution_count": null,
   "metadata": {
    "collapsed": true
   },
   "outputs": [],
   "source": []
  },
  {
   "cell_type": "code",
   "execution_count": null,
   "metadata": {
    "collapsed": true
   },
   "outputs": [],
   "source": []
  },
  {
   "cell_type": "code",
   "execution_count": null,
   "metadata": {
    "collapsed": true
   },
   "outputs": [],
   "source": []
  }
 ],
 "metadata": {
  "kernelspec": {
   "display_name": "Python 3",
   "language": "python",
   "name": "python3"
  },
  "language_info": {
   "codemirror_mode": {
    "name": "ipython",
    "version": 3
   },
   "file_extension": ".py",
   "mimetype": "text/x-python",
   "name": "python",
   "nbconvert_exporter": "python",
   "pygments_lexer": "ipython3",
   "version": "3.5.1"
  }
 },
 "nbformat": 4,
 "nbformat_minor": 0
}
