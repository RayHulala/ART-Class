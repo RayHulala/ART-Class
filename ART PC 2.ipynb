{
 "cells": [
  {
   "cell_type": "code",
   "execution_count": 1,
   "metadata": {
    "collapsed": true
   },
   "outputs": [],
   "source": [
    "#/2nd practice"
   ]
  },
  {
   "cell_type": "code",
   "execution_count": 6,
   "metadata": {
    "collapsed": false
   },
   "outputs": [],
   "source": [
    "import urllib.request\n",
    "from urllib.request import urlopen\n",
    "import re\n",
    "out = open('event2.txt','w')"
   ]
  },
  {
   "cell_type": "code",
   "execution_count": 7,
   "metadata": {
    "collapsed": false
   },
   "outputs": [
    {
     "name": "stdout",
     "output_type": "stream",
     "text": [
      "100132\n"
     ]
    }
   ],
   "source": [
    "print ('number',';','company',';','status',';','tic',';','classend',';','settle',';','check',';','fake', file=out)\n",
    "cname = '<h4>Defendant: (.+?) <small>'\n",
    "cstat = '<span aria-hidden=\"true\" class=\"icon-check\"></span> (.+?) '\n",
    "ctick = '<div class=\"span4\"><strong>Ticker Symbol:</strong> (.+?)</div>'\n",
    "cdate = '<div class=\"span4\"><strong>CLASS PERIOD END:</strong> (.+?)</div>'\n",
    "csdat = '<td>[^.]*Settlement[^.]*</td>\\s<td>(.+?)</td>'\n",
    "cddat = 'On or around (.+?) \\('\n",
    "ccmkt = '<div class=\"span4\"><strong>Company Market:</strong> (.+?)</div>'\n",
    "ccase = '<div class=\"span12\" style=\"background-color: #ffffff;\">\\n(.+?)\\n'\n",
    "i=100132\n",
    "while (i<100133):\n",
    "    print (i)\n",
    "    htmlfile = urllib.request.urlopen(\"http://securities.stanford.edu/filings-case.html?id=\" + str(i)) \n",
    "    htmltext = htmlfile.read().decode('utf-8')\n",
    "    keyb = re.compile(cstat)\n",
    "    stat = re.findall(keyb,htmltext)\n",
    "    keye = re.compile(ccmkt)\n",
    "    cmkt = re.findall(keye,htmltext)\n",
    "    keyd = re.compile(cdate)\n",
    "    date = re.findall(keyd,htmltext)\n",
    "    keyh = re.compile(cddat)\n",
    "    fake  = re.findall(keyh,htmltext)\n",
    "    if not (cmkt and date) or any([cmkt[0] =='Undetermined', cmkt[0] =='Privately Traded', stat[0] == 'ONGOING']):\n",
    "        i+=1\n",
    "    else:\n",
    "        keyf = re.compile(csdat)\n",
    "        cedt = re.findall(keyf,htmltext)\n",
    "        keya = re.compile(cname)\n",
    "        keyc = re.compile(ctick)\n",
    "        name = re.findall(keya,htmltext)\n",
    "        tick = re.findall(keyc,htmltext)\n",
    "        keyg = re.compile(ccase)\n",
    "        case = re.findall(keyg,htmltext)\n",
    "        if (stat[0] == 'DISMISSED') or (stat[0] == 'SETTLED' and not cedt):\n",
    "            eventdate = fake\n",
    "        else:\n",
    "            eventdate = cedt\n",
    "            print (i, name, stat, tick, date, eventdate, fake, case)\n",
    "        try:\n",
    "            print (i,'||',name[0],'||',stat[0],'||',tick[0],'||',date[0],'||',eventdate[0],'||','||',fake[0],'||',case, file=out)\n",
    "        except:\n",
    "            print (i, \";\", \"error\", file=out)\n",
    "    i+=1\n",
    "out.close()"
   ]
  },
  {
   "cell_type": "code",
   "execution_count": null,
   "metadata": {
    "collapsed": true
   },
   "outputs": [],
   "source": []
  }
 ],
 "metadata": {
  "kernelspec": {
   "display_name": "Python 3",
   "language": "python",
   "name": "python3"
  },
  "language_info": {
   "codemirror_mode": {
    "name": "ipython",
    "version": 3
   },
   "file_extension": ".py",
   "mimetype": "text/x-python",
   "name": "python",
   "nbconvert_exporter": "python",
   "pygments_lexer": "ipython3",
   "version": "3.5.1"
  }
 },
 "nbformat": 4,
 "nbformat_minor": 0
}
