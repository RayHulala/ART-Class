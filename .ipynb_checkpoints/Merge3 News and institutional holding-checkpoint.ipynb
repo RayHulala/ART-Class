{
 "cells": [
  {
   "cell_type": "code",
   "execution_count": 98,
   "metadata": {
    "collapsed": true
   },
   "outputs": [],
   "source": [
    "%matplotlib inline\n",
    "import pandas as pd\n",
    "import numpy as np\n",
    "import seaborn as sns"
   ]
  },
  {
   "cell_type": "code",
   "execution_count": 99,
   "metadata": {
    "collapsed": true
   },
   "outputs": [],
   "source": [
    "settledata = pd.DataFrame.from_csv('settledata.csv', index_col=None)\n",
    "news = pd.DataFrame.from_csv('news.csv', index_col=None)\n",
    "inst = pd.DataFrame.from_csv('instholding.csv', index_col=None)"
   ]
  },
  {
   "cell_type": "code",
   "execution_count": 100,
   "metadata": {
    "collapsed": false
   },
   "outputs": [],
   "source": [
    "news['Class_end'] = pd.to_datetime(news['Class_end'] .astype(str), format=\"%d/%m/%Y\")\n",
    "news['Settle_date'] = pd.to_datetime(news['Settle_date'] .astype(str), format=\"%d/%m/%Y\")"
   ]
  },
  {
   "cell_type": "code",
   "execution_count": 101,
   "metadata": {
    "collapsed": true
   },
   "outputs": [],
   "source": [
    "settledata['classend'] = pd.to_datetime(settledata['classend'] .astype(str), format=\"%Y-%m-%d\")\n",
    "settledata['settledate'] = pd.to_datetime(settledata['settledate'] .astype(str), format=\"%Y-%m-%d\")"
   ]
  },
  {
   "cell_type": "code",
   "execution_count": 102,
   "metadata": {
    "collapsed": true
   },
   "outputs": [],
   "source": [
    "news = news.rename(columns={'Settle_date':'settledate','Class_end':'classend'})"
   ]
  },
  {
   "cell_type": "code",
   "execution_count": 103,
   "metadata": {
    "collapsed": false
   },
   "outputs": [],
   "source": [
    "settledata = pd.merge (settledata, news, how = \"inner\", on =['tic','classend','settledate'])"
   ]
  },
  {
   "cell_type": "code",
   "execution_count": 104,
   "metadata": {
    "collapsed": false
   },
   "outputs": [],
   "source": [
    "settledata = settledata.replace([np.inf, -np.inf], np.nan)"
   ]
  },
  {
   "cell_type": "code",
   "execution_count": null,
   "metadata": {
    "collapsed": true
   },
   "outputs": [],
   "source": []
  },
  {
   "cell_type": "code",
   "execution_count": 105,
   "metadata": {
    "collapsed": false
   },
   "outputs": [],
   "source": [
    "m1 = settledata.fillna(0)"
   ]
  },
  {
   "cell_type": "code",
   "execution_count": 106,
   "metadata": {
    "collapsed": false
   },
   "outputs": [],
   "source": [
    "m1.columns = map(str.lower, m1.columns)\n"
   ]
  },
  {
   "cell_type": "code",
   "execution_count": 107,
   "metadata": {
    "collapsed": false
   },
   "outputs": [
    {
     "data": {
      "text/plain": [
       "Index(['tic', 'settledate', 'cret', 'car', 'bhar', 'number', 'classend',\n",
       "       'ceyr', 'month', 'gap', 'lgap', 'settleamt', 'year', 'styr', 'gvkey',\n",
       "       'date', 'fyear_st', 'at_st', 'capx_st', 'ceq_st', 'dltt_st', 'dp_st',\n",
       "       'dt_st', 'ebit_st', 'revt_st', 'setp_st', 'txpd_st', 'wcap', 'xintd_st',\n",
       "       'mkvalt_st', 'sic', 'f_month', 'wcap_1_st', 'dwcap_st', 'ebit_1_st',\n",
       "       'fcf_st', 'fcf_1_st', 'size_st', 'debtratio_st', 'm2b_st',\n",
       "       'classification', 'accounting', 'secondary market & trading',\n",
       "       'financial intermediatary',\n",
       "       'non-accounting disclsoure and misrepresentation', 'others', 'fyear_ce',\n",
       "       'at_ce', 'capx_ce', 'ceq_ce', 'dltt_ce', 'dp_ce', 'dt_ce', 'ebit_ce',\n",
       "       'revt_ce', 'setp_ce', 'txpd_ce', 'wcap_ce', 'xintd_ce', 'mkvalt_ce',\n",
       "       'wcap_1_ce', 'dwcap_ce', 'ebit_1_ce', 'fcf_ce', 'fcf_1_ce', 'size_ce',\n",
       "       'debtratio_ce', 'm2b_ce', 'prc', 'vol', 'shrout', 'sprtrn', 'vt',\n",
       "       'share turnover', 'abnormal volume', 'abnormal share turnover',\n",
       "       'skewness', 'news_st', 'news_ce', 'news_winner_st', 'news_winner_ce',\n",
       "       'confounding'],\n",
       "      dtype='object')"
      ]
     },
     "execution_count": 107,
     "metadata": {},
     "output_type": "execute_result"
    }
   ],
   "source": [
    "m1.columns"
   ]
  },
  {
   "cell_type": "code",
   "execution_count": 96,
   "metadata": {
    "collapsed": true
   },
   "outputs": [],
   "source": []
  },
  {
   "cell_type": "code",
   "execution_count": 108,
   "metadata": {
    "collapsed": false
   },
   "outputs": [],
   "source": [
    "m2 = inst[['rdate','tic','InstOwn_HHI','InstOwn_Perc']]"
   ]
  },
  {
   "cell_type": "code",
   "execution_count": 109,
   "metadata": {
    "collapsed": true
   },
   "outputs": [],
   "source": [
    "m2.columns = map(str.lower, m2.columns)"
   ]
  },
  {
   "cell_type": "code",
   "execution_count": 110,
   "metadata": {
    "collapsed": true
   },
   "outputs": [],
   "source": [
    "#m2 = m2.rename(columns={'rdate':'settledate'})"
   ]
  },
  {
   "cell_type": "code",
   "execution_count": 111,
   "metadata": {
    "collapsed": false
   },
   "outputs": [],
   "source": [
    "m3 = m1[['tic','settledate','number','styr']]"
   ]
  },
  {
   "cell_type": "code",
   "execution_count": 112,
   "metadata": {
    "collapsed": false
   },
   "outputs": [
    {
     "name": "stderr",
     "output_type": "stream",
     "text": [
      "D:\\anaconda\\lib\\site-packages\\ipykernel\\__main__.py:1: SettingWithCopyWarning: \n",
      "A value is trying to be set on a copy of a slice from a DataFrame.\n",
      "Try using .loc[row_indexer,col_indexer] = value instead\n",
      "\n",
      "See the caveats in the documentation: http://pandas.pydata.org/pandas-docs/stable/indexing.html#indexing-view-versus-copy\n",
      "  if __name__ == '__main__':\n"
     ]
    }
   ],
   "source": [
    "m2['styr'] = pd.DatetimeIndex(m2['rdate']).year"
   ]
  },
  {
   "cell_type": "code",
   "execution_count": 128,
   "metadata": {
    "collapsed": false
   },
   "outputs": [
    {
     "name": "stderr",
     "output_type": "stream",
     "text": [
      "D:\\anaconda\\lib\\site-packages\\ipykernel\\__main__.py:1: SettingWithCopyWarning: \n",
      "A value is trying to be set on a copy of a slice from a DataFrame.\n",
      "Try using .loc[row_indexer,col_indexer] = value instead\n",
      "\n",
      "See the caveats in the documentation: http://pandas.pydata.org/pandas-docs/stable/indexing.html#indexing-view-versus-copy\n",
      "  if __name__ == '__main__':\n"
     ]
    }
   ],
   "source": [
    "m2['rdate'] = pd.to_datetime(m2['rdate'] .astype(str), format=\"%m/%d/%Y\")"
   ]
  },
  {
   "cell_type": "code",
   "execution_count": 146,
   "metadata": {
    "collapsed": false
   },
   "outputs": [],
   "source": [
    "m4 = pd.merge(m2, m3, how = \"right\", on =['tic'])"
   ]
  },
  {
   "cell_type": "code",
   "execution_count": 147,
   "metadata": {
    "collapsed": false
   },
   "outputs": [
    {
     "data": {
      "text/html": [
       "<div>\n",
       "<table border=\"1\" class=\"dataframe\">\n",
       "  <thead>\n",
       "    <tr style=\"text-align: right;\">\n",
       "      <th></th>\n",
       "      <th>rdate</th>\n",
       "      <th>tic</th>\n",
       "      <th>instown_hhi</th>\n",
       "      <th>instown_perc</th>\n",
       "      <th>styr_x</th>\n",
       "      <th>settledate</th>\n",
       "      <th>number</th>\n",
       "      <th>styr_y</th>\n",
       "    </tr>\n",
       "  </thead>\n",
       "  <tbody>\n",
       "    <tr>\n",
       "      <th>0</th>\n",
       "      <td>2004-03-31</td>\n",
       "      <td>ADEX</td>\n",
       "      <td>0.228442</td>\n",
       "      <td>0.547711</td>\n",
       "      <td>2004</td>\n",
       "      <td>2006-07-10</td>\n",
       "      <td>103639</td>\n",
       "      <td>2006</td>\n",
       "    </tr>\n",
       "    <tr>\n",
       "      <th>1</th>\n",
       "      <td>2004-06-30</td>\n",
       "      <td>ADEX</td>\n",
       "      <td>0.203529</td>\n",
       "      <td>0.579488</td>\n",
       "      <td>2004</td>\n",
       "      <td>2006-07-10</td>\n",
       "      <td>103639</td>\n",
       "      <td>2006</td>\n",
       "    </tr>\n",
       "    <tr>\n",
       "      <th>2</th>\n",
       "      <td>2004-09-30</td>\n",
       "      <td>ADEX</td>\n",
       "      <td>0.149687</td>\n",
       "      <td>0.673882</td>\n",
       "      <td>2004</td>\n",
       "      <td>2006-07-10</td>\n",
       "      <td>103639</td>\n",
       "      <td>2006</td>\n",
       "    </tr>\n",
       "    <tr>\n",
       "      <th>3</th>\n",
       "      <td>2004-12-31</td>\n",
       "      <td>ADEX</td>\n",
       "      <td>0.147971</td>\n",
       "      <td>0.672944</td>\n",
       "      <td>2004</td>\n",
       "      <td>2006-07-10</td>\n",
       "      <td>103639</td>\n",
       "      <td>2006</td>\n",
       "    </tr>\n",
       "    <tr>\n",
       "      <th>4</th>\n",
       "      <td>2005-03-31</td>\n",
       "      <td>ADEX</td>\n",
       "      <td>0.133650</td>\n",
       "      <td>0.699961</td>\n",
       "      <td>2005</td>\n",
       "      <td>2006-07-10</td>\n",
       "      <td>103639</td>\n",
       "      <td>2006</td>\n",
       "    </tr>\n",
       "  </tbody>\n",
       "</table>\n",
       "</div>"
      ],
      "text/plain": [
       "       rdate   tic  instown_hhi  instown_perc  styr_x settledate  number  \\\n",
       "0 2004-03-31  ADEX     0.228442      0.547711    2004 2006-07-10  103639   \n",
       "1 2004-06-30  ADEX     0.203529      0.579488    2004 2006-07-10  103639   \n",
       "2 2004-09-30  ADEX     0.149687      0.673882    2004 2006-07-10  103639   \n",
       "3 2004-12-31  ADEX     0.147971      0.672944    2004 2006-07-10  103639   \n",
       "4 2005-03-31  ADEX     0.133650      0.699961    2005 2006-07-10  103639   \n",
       "\n",
       "   styr_y  \n",
       "0    2006  \n",
       "1    2006  \n",
       "2    2006  \n",
       "3    2006  \n",
       "4    2006  "
      ]
     },
     "execution_count": 147,
     "metadata": {},
     "output_type": "execute_result"
    }
   ],
   "source": [
    "m4.head()"
   ]
  },
  {
   "cell_type": "code",
   "execution_count": 148,
   "metadata": {
    "collapsed": true
   },
   "outputs": [],
   "source": [
    "m4 = m4.fillna(0)"
   ]
  },
  {
   "cell_type": "code",
   "execution_count": 149,
   "metadata": {
    "collapsed": false
   },
   "outputs": [],
   "source": [
    "m4['diff'] = m4['rdate'] - m4['settledate']"
   ]
  },
  {
   "cell_type": "code",
   "execution_count": null,
   "metadata": {
    "collapsed": true
   },
   "outputs": [],
   "source": []
  },
  {
   "cell_type": "code",
   "execution_count": 150,
   "metadata": {
    "collapsed": false
   },
   "outputs": [],
   "source": [
    "try:\n",
    "    m4['diff'] = m4['diff'].astype(pd.Timedelta).apply(lambda l: l.days)\n",
    "except:\n",
    "    m4['diff'] = 0"
   ]
  },
  {
   "cell_type": "code",
   "execution_count": null,
   "metadata": {
    "collapsed": true
   },
   "outputs": [],
   "source": []
  },
  {
   "cell_type": "code",
   "execution_count": null,
   "metadata": {
    "collapsed": true
   },
   "outputs": [],
   "source": []
  },
  {
   "cell_type": "code",
   "execution_count": 152,
   "metadata": {
    "collapsed": true
   },
   "outputs": [],
   "source": [
    "m4 = m4[m4['diff']<=0]"
   ]
  },
  {
   "cell_type": "code",
   "execution_count": 156,
   "metadata": {
    "collapsed": false
   },
   "outputs": [],
   "source": [
    "m4 = m4.drop_duplicates(subset = 'number', keep='last')"
   ]
  },
  {
   "cell_type": "code",
   "execution_count": 162,
   "metadata": {
    "collapsed": false
   },
   "outputs": [
    {
     "data": {
      "text/plain": [
       "Index(['rdate', 'tic', 'instown_hhi', 'instown_perc', 'styr_x', 'settledate',\n",
       "       'number', 'styr_y', 'diff'],\n",
       "      dtype='object')"
      ]
     },
     "execution_count": 162,
     "metadata": {},
     "output_type": "execute_result"
    }
   ],
   "source": [
    "m4.columns"
   ]
  },
  {
   "cell_type": "code",
   "execution_count": 163,
   "metadata": {
    "collapsed": true
   },
   "outputs": [],
   "source": [
    "m5 = m4[['number','instown_hhi', 'instown_perc']]"
   ]
  },
  {
   "cell_type": "code",
   "execution_count": 165,
   "metadata": {
    "collapsed": true
   },
   "outputs": [],
   "source": [
    "finish = pd.merge(m1, m5, how = \"left\", on =['number'])"
   ]
  },
  {
   "cell_type": "code",
   "execution_count": 173,
   "metadata": {
    "collapsed": true
   },
   "outputs": [],
   "source": [
    "finish['instown_hhi'] = finish['instown_hhi']*100\n",
    "finish['instown_perc'] = finish['instown_perc']*100"
   ]
  },
  {
   "cell_type": "code",
   "execution_count": null,
   "metadata": {
    "collapsed": true
   },
   "outputs": [],
   "source": []
  },
  {
   "cell_type": "code",
   "execution_count": 174,
   "metadata": {
    "collapsed": false
   },
   "outputs": [],
   "source": [
    "finish.to_csv('dataF.csv', encoding='utf-8',index=False)"
   ]
  },
  {
   "cell_type": "code",
   "execution_count": null,
   "metadata": {
    "collapsed": true
   },
   "outputs": [],
   "source": []
  },
  {
   "cell_type": "code",
   "execution_count": null,
   "metadata": {
    "collapsed": true
   },
   "outputs": [],
   "source": []
  },
  {
   "cell_type": "code",
   "execution_count": null,
   "metadata": {
    "collapsed": true
   },
   "outputs": [],
   "source": []
  },
  {
   "cell_type": "code",
   "execution_count": null,
   "metadata": {
    "collapsed": true
   },
   "outputs": [],
   "source": []
  },
  {
   "cell_type": "code",
   "execution_count": 97,
   "metadata": {
    "collapsed": false
   },
   "outputs": [],
   "source": []
  },
  {
   "cell_type": "code",
   "execution_count": null,
   "metadata": {
    "collapsed": false
   },
   "outputs": [],
   "source": []
  },
  {
   "cell_type": "code",
   "execution_count": null,
   "metadata": {
    "collapsed": true
   },
   "outputs": [],
   "source": []
  },
  {
   "cell_type": "code",
   "execution_count": null,
   "metadata": {
    "collapsed": false
   },
   "outputs": [],
   "source": []
  },
  {
   "cell_type": "code",
   "execution_count": null,
   "metadata": {
    "collapsed": true
   },
   "outputs": [],
   "source": []
  },
  {
   "cell_type": "code",
   "execution_count": null,
   "metadata": {
    "collapsed": true
   },
   "outputs": [],
   "source": []
  },
  {
   "cell_type": "code",
   "execution_count": null,
   "metadata": {
    "collapsed": true
   },
   "outputs": [],
   "source": []
  },
  {
   "cell_type": "code",
   "execution_count": null,
   "metadata": {
    "collapsed": true
   },
   "outputs": [],
   "source": []
  },
  {
   "cell_type": "code",
   "execution_count": null,
   "metadata": {
    "collapsed": true
   },
   "outputs": [],
   "source": []
  },
  {
   "cell_type": "code",
   "execution_count": null,
   "metadata": {
    "collapsed": true
   },
   "outputs": [],
   "source": []
  },
  {
   "cell_type": "code",
   "execution_count": null,
   "metadata": {
    "collapsed": true
   },
   "outputs": [],
   "source": []
  }
 ],
 "metadata": {
  "kernelspec": {
   "display_name": "Python 3",
   "language": "python",
   "name": "python3"
  },
  "language_info": {
   "codemirror_mode": {
    "name": "ipython",
    "version": 3
   },
   "file_extension": ".py",
   "mimetype": "text/x-python",
   "name": "python",
   "nbconvert_exporter": "python",
   "pygments_lexer": "ipython3",
   "version": "3.5.1"
  }
 },
 "nbformat": 4,
 "nbformat_minor": 0
}
