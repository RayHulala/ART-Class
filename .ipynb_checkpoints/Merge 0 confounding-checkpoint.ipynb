{
 "cells": [
  {
   "cell_type": "code",
   "execution_count": 156,
   "metadata": {
    "collapsed": true
   },
   "outputs": [],
   "source": [
    "import pandas as pd\n",
    "import numpy as np"
   ]
  },
  {
   "cell_type": "code",
   "execution_count": 157,
   "metadata": {
    "collapsed": false
   },
   "outputs": [],
   "source": [
    "cf = pd.DataFrame.from_csv('earning release.csv',index_col=None)\n",
    "settle = pd.DataFrame.from_csv('settle_sample1.csv', index_col=None)\n",
    "\n",
    "settle=settle.rename(columns={'Settle_dismiss':'settledate'})\n",
    "\n",
    "cf=cf.rename(columns={'FDATE':'filedate'})\n",
    "\n",
    "settle['settledate'] = pd.to_datetime(settle['settledate'].astype(str), format=\"%d/%m/%Y\")\n",
    "\n",
    "cf['filedate'] = pd.to_datetime(cf['filedate'].astype(str), format=\"%Y%m%d\")\n",
    "\n",
    "cf['year'] = pd.DatetimeIndex(cf['filedate']).year\n",
    "\n",
    "settle = settle.drop_duplicates()"
   ]
  },
  {
   "cell_type": "code",
   "execution_count": 179,
   "metadata": {
    "collapsed": false
   },
   "outputs": [],
   "source": [
    "m1 = pd.merge (settle, cf, how ='left', on=['tic','year'])"
   ]
  },
  {
   "cell_type": "code",
   "execution_count": 180,
   "metadata": {
    "collapsed": false
   },
   "outputs": [],
   "source": [
    "m1 = m1[m1['filedate'] != None]\n",
    "\n",
    "m1 = m1[m1['settledate'] != None]\n",
    "\n",
    "m1['diff'] = m1['settledate'] - m1['filedate']\n",
    "\n",
    "m1 = m1[m1['diff'].notnull()]\n",
    "\n",
    "m1['diff'] = m1['diff'].astype(pd.Timedelta).apply(lambda l: l.days)"
   ]
  },
  {
   "cell_type": "code",
   "execution_count": 185,
   "metadata": {
    "collapsed": true
   },
   "outputs": [],
   "source": [
    "m1['diff'] = m1['diff'].abs()\n",
    "\n",
    "m1['confounding'] = m1['diff'] < 11"
   ]
  },
  {
   "cell_type": "code",
   "execution_count": 187,
   "metadata": {
    "collapsed": false
   },
   "outputs": [],
   "source": [
    "m1 = m1[['tic', 'Class_end', 'settledate', 'year', 'Month', 'gap', 'sic', 'lgap','settleamt','confounding']]\n",
    "\n",
    "m1 = m1.drop_duplicates()\n",
    "\n",
    "m1 = m1.drop_duplicates(subset = ['tic', 'Class_end', 'settledate', 'year', 'Month', 'gap', 'sic', 'lgap','settleamt'])\n",
    "\n",
    "m1 = m1[m1['confounding'] != True]"
   ]
  },
  {
   "cell_type": "code",
   "execution_count": 195,
   "metadata": {
    "collapsed": false
   },
   "outputs": [],
   "source": [
    "m1 = m1[['tic', 'Class_end', 'settledate', 'year', 'Month', 'gap', 'sic', 'lgap','settleamt']]"
   ]
  },
  {
   "cell_type": "code",
   "execution_count": 196,
   "metadata": {
    "collapsed": true
   },
   "outputs": [],
   "source": [
    "m1.to_csv('settle_afterCF.csv', encoding='utf-8')"
   ]
  },
  {
   "cell_type": "code",
   "execution_count": null,
   "metadata": {
    "collapsed": true
   },
   "outputs": [],
   "source": []
  }
 ],
 "metadata": {
  "kernelspec": {
   "display_name": "Python 3",
   "language": "python",
   "name": "python3"
  },
  "language_info": {
   "codemirror_mode": {
    "name": "ipython",
    "version": 3
   },
   "file_extension": ".py",
   "mimetype": "text/x-python",
   "name": "python",
   "nbconvert_exporter": "python",
   "pygments_lexer": "ipython3",
   "version": "3.5.1"
  }
 },
 "nbformat": 4,
 "nbformat_minor": 0
}
