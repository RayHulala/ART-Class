{
 "cells": [
  {
   "cell_type": "code",
   "execution_count": 58,
   "metadata": {
    "collapsed": true
   },
   "outputs": [],
   "source": [
    "import urllib.request\n",
    "from urllib.request import urlopen\n",
    "import re\n",
    "out = open('SCAS.txt','w')"
   ]
  },
  {
   "cell_type": "code",
   "execution_count": 59,
   "metadata": {
    "collapsed": false
   },
   "outputs": [],
   "source": [
    "print ('id','||','name','||','status','||','tic','||','filedate','||','Tentative Settlement Date','||',\n",
    "       'Final Settlement Date','||','class period','||','settlement amount','||','case summary', file=out)\n",
    "#casename\n",
    "regex_name = '<b><u>[\\s]+(.*?)[\\s]+</u></b>'\n",
    "#casesatus\n",
    "regex_status = 'Case Status</span></b>[\\s]+</font>[\\s]+</td>[\\s]+<td width=\"60%\" align=\"right\">[\\s]+<font face=\"Arial Narrow\" size=\"2\" color=\"#000000\">[\\s]+(.+?)[\\s]+</font>'\n",
    "#ticker\n",
    "regex_tic = '<b>Security ID[(]s[)]</b>[\\s]+</font>[\\s]+</td>[\\s]+</tr>[\\s]+<tr>[\\s]+<td colspan=\"2\">[\\s]+<font face=\"Arial Narrow\" size=\"2\" color=\"#000000\">[\\s]+[^.]*[(](.+?)[)]<br>'\n",
    "#fillingdate\n",
    "regex_filedate = 'Filing Date</span></b>[\\s]+</font>[\\s]+</td>[\\s]+<td width=\"60%\" align=\"right\">[\\s]+<font face=\"Arial Narrow\" size=\"2\" color=\"#000000\">[\\s]+(.+?)[\\s]+</font>'\n",
    "#Tentative Settlement Date\n",
    "regex_stdatet = 'Tentative Settlement Date</span></b>[\\s]+</font>[\\s]+</td>[\\s]+[\\s]+<td width=\"60%\">[\\s]+<font face=\"Arial Narrow\" size=\"2\" color=\"#000000\">[\\s]+(.+?)[\\s]+</font>'\n",
    "#Final Settlement Date\n",
    "regex_stdatef = 'Final Settlement Date</span></b>[\\s]+</font>[\\s]+</td>[\\s]+[\\s]+<td width=\"60%\">[\\s]+<font face=\"Arial Narrow\" size=\"2\" color=\"#000000\">[\\s]+(.+?)[\\s]+</font>'\n",
    "#class period\n",
    "regex_classperiod = 'Class Period</span></b>[\\s]+</font>[\\s]+</td>[\\s]+<td width=\"60%\" align=\"right\">[\\s]+<font face=\"Arial Narrow\" size=\"2\" color=\"#000000\">[\\s]+(.+?)[\\s]+</font>'\n",
    "#settlement amount\n",
    "regex_stamt = 'Settlement Fund</span></b>[\\s]+</font>[\\s]+</td>[\\s]+<td width=\"60%\" align=\"right\">[\\s]+<font face=\"Arial Narrow\" size=\"2\" color=\"#000000\">[\\s]+[$]([\\S]+)[\\s]+</font>'\n",
    "#case summary\n",
    "regex_casesum = 'Case Summary</span></b>[\\s]+</font>[\\s]+</td>[\\s]+</tr>[\\s]+<tr>[\\s]+<td colspan=\"2\">[\\s]+<font face=\"Arial Narrow\" size=\"1\">[\\s]+<br>[\\s]+</font>[\\s]+</td>[\\s]+</tr>[\\s]+<tr>[\\s]+<td colspan=\"2\">[\\s]+<font face=\"Arial Narrow\" size=\"2\" color=\"#000000\">[\\s]+(.+?)[\\s]+</font>'\n",
    "\n"
   ]
  },
  {
   "cell_type": "code",
   "execution_count": 60,
   "metadata": {
    "collapsed": false
   },
   "outputs": [],
   "source": [
    "j = 25677\n",
    "while j < 25678:\n",
    "    htmlfile = urllib.request.urlopen(\"http://scas.issproxy.com/casesummary.php?CaseId=\" + str(j)) \n",
    "    htmltext = htmlfile.read().decode('utf-8')\n",
    "    key1 = re.compile(regex_name)\n",
    "    name = re.findall(key1,htmltext)   \n",
    "    if (name[0]==''):\n",
    "        print (j)\n",
    "        j += 1\n",
    "    else:\n",
    "        key2 = re.compile(regex_status)\n",
    "        status = re.findall(key2,htmltext)\n",
    "        key3 = re.compile(regex_tic)\n",
    "        tic = re.findall(key3,htmltext)\n",
    "        key4 = re.compile(regex_filedate)\n",
    "        filedate = re.findall(key4,htmltext)\n",
    "        key4 = re.compile(regex_filedate)\n",
    "        filedate = re.findall(key4,htmltext)\n",
    "        key5 = re.compile(regex_stdatet)\n",
    "        stdateT = re.findall(key5,htmltext)\n",
    "        key6 = re.compile(regex_stdatef)\n",
    "        stdateF = re.findall(key6,htmltext)\n",
    "        key7 = re.compile(regex_classperiod)\n",
    "        classperiod = re.findall(key7,htmltext)\n",
    "        key8 = re.compile(regex_stamt)\n",
    "        st_amt = re.findall(key8,htmltext)[:1]\n",
    "        key9 = re.compile(regex_casesum)\n",
    "        casesum = re.findall(key9,htmltext)\n",
    "        if not (st_amt):\n",
    "            st_amt.append('N/A')\n",
    "        try:\n",
    "            print (j,'||',name[0],'||',status[0],'||',tic[0],'||',filedate[0],'||',stdateF[0],'||',st_amt[0],'||',classperiod[0],\n",
    "                   '||',stdateT[0],'||',casesum, file=out)\n",
    "        except:\n",
    "            print (j, \";\", \"error\", file=out)\n",
    "        j += 1\n",
    "out.close()"
   ]
  },
  {
   "cell_type": "code",
   "execution_count": 61,
   "metadata": {
    "collapsed": false
   },
   "outputs": [
    {
     "data": {
      "text/plain": [
       "'Reptron Electronics, Inc.'"
      ]
     },
     "execution_count": 61,
     "metadata": {},
     "output_type": "execute_result"
    }
   ],
   "source": [
    "name[0]"
   ]
  },
  {
   "cell_type": "code",
   "execution_count": null,
   "metadata": {
    "collapsed": true
   },
   "outputs": [],
   "source": []
  }
 ],
 "metadata": {
  "kernelspec": {
   "display_name": "Python 3",
   "language": "python",
   "name": "python3"
  },
  "language_info": {
   "codemirror_mode": {
    "name": "ipython",
    "version": 3
   },
   "file_extension": ".py",
   "mimetype": "text/x-python",
   "name": "python",
   "nbconvert_exporter": "python",
   "pygments_lexer": "ipython3",
   "version": "3.5.1"
  }
 },
 "nbformat": 4,
 "nbformat_minor": 0
}
