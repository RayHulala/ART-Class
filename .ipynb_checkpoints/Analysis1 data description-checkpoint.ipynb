{
 "cells": [
  {
   "cell_type": "code",
   "execution_count": 207,
   "metadata": {
    "collapsed": true
   },
   "outputs": [],
   "source": [
    "import pandas as pd\n",
    "import numpy as np\n",
    "import matplotlib.pyplot as plt\n",
    "import seaborn as sns\n",
    "import scipy.stats"
   ]
  },
  {
   "cell_type": "code",
   "execution_count": 208,
   "metadata": {
    "collapsed": false
   },
   "outputs": [],
   "source": [
    "dataC = pd.DataFrame.from_csv('dataF.csv', index_col=None)\n",
    "dataC['news_st']=dataC['news_st'].astype(float)\n",
    "dataC['news_ce']=dataC['news_ce'].astype(float)"
   ]
  },
  {
   "cell_type": "code",
   "execution_count": null,
   "metadata": {
    "collapsed": false
   },
   "outputs": [],
   "source": []
  },
  {
   "cell_type": "code",
   "execution_count": 209,
   "metadata": {
    "collapsed": true
   },
   "outputs": [],
   "source": [
    "dataC['share turnover'] = np.log(dataC['share turnover'])\n",
    "dataC['dltt_st'] = np.log(dataC['dltt_st'])\n",
    "dataC['dltt_ce'] = np.log(dataC['dltt_ce'])\n",
    "dataC['gap'] = (dataC['gap'])/30"
   ]
  },
  {
   "cell_type": "code",
   "execution_count": 210,
   "metadata": {
    "collapsed": false
   },
   "outputs": [],
   "source": [
    "vartowin= ['cret', 'car', 'bhar', 'setp_sum', 'gc_opinion_sum', 'gap', 'lgap', 'at_st', 'capx_st', 'ceq_st', 'dltt_st', 'dp_st',\n",
    " 'dt_st', 'ebit_st', 'setp_st', 'txpd_st', 'wcap', 'xintd_st', 'mkvalt_st', 'wcap_1_st', 'dwcap_st', 'fcf_st',\n",
    " 'size_st', 'debtratio_st', 'm2b_st', 'gc_opinion', 'fyear_ce', 'at_ce', 'capx_ce', 'ceq_ce', 'dltt_ce', 'dp_ce', 'dt_ce', 'ebit_ce',\n",
    " 'setp_ce', 'txpd_ce', 'wcap_ce', 'xintd_ce', 'mkvalt_ce', 'wcap_1_ce', 'dwcap_ce', 'fcf_ce', 'size_ce', 'debtratio_ce',\n",
    " 'm2b_ce', 'prc', 'vol', 'shrout', 'sprtrn', 'vt', 'share turnover', 'news_st', 'news_ce','settlefund']"
   ]
  },
  {
   "cell_type": "code",
   "execution_count": 211,
   "metadata": {
    "collapsed": true
   },
   "outputs": [],
   "source": [
    "dataC = dataC.fillna(0)\n",
    "dataC = dataC.replace([np.inf, -np.inf], 0)"
   ]
  },
  {
   "cell_type": "code",
   "execution_count": 212,
   "metadata": {
    "collapsed": false
   },
   "outputs": [],
   "source": [
    "for i in vartowin:\n",
    "    dataC[i] = scipy.stats.mstats.winsorize(dataC[i], limits=0.025)"
   ]
  },
  {
   "cell_type": "code",
   "execution_count": null,
   "metadata": {
    "collapsed": true
   },
   "outputs": [],
   "source": []
  },
  {
   "cell_type": "code",
   "execution_count": 213,
   "metadata": {
    "collapsed": true
   },
   "outputs": [],
   "source": [
    "median = dataC.median(axis = 0)"
   ]
  },
  {
   "cell_type": "code",
   "execution_count": 214,
   "metadata": {
    "collapsed": true
   },
   "outputs": [],
   "source": [
    "description = dataC.describe().transpose()\n",
    "description['median'] = median\n",
    "description.columns = map(str.upper, description.columns)\n",
    "description = description[['COUNT', 'MEAN','MEDIAN', 'STD', 'MIN', '25%', '50%', '75%', 'MAX']]\n",
    "description.index = map(str.upper, description.index)"
   ]
  },
  {
   "cell_type": "code",
   "execution_count": 215,
   "metadata": {
    "collapsed": true
   },
   "outputs": [],
   "source": [
    "description = description.reindex(['CRET', 'CAR', 'BHAR','NEWS_ST', 'NEWS_CE','SETTLEFUND','GAP', 'LGAP', 'SIZE_CE','DEBTRATIO_CE',\n",
    "                                   'M2B_CE','AT_CE','DLTT_CE','EBIT_CE','FCF_CE','SETP_CE','SETP_SUM','SIZE_ST', 'DEBTRATIO_ST', \n",
    "                                   'M2B_ST','AT_ST','DLTT_ST','EBIT_ST','FCF_ST','SETP_ST','SHARE TURNOVER','GC_OPINION','GC_OPINION_SUM'])\n",
    "pd.options.display.float_format = '{:20,.2f}'.format\n",
    "description['COUNT'] = description['COUNT'].astype(int)"
   ]
  },
  {
   "cell_type": "code",
   "execution_count": 216,
   "metadata": {
    "collapsed": false
   },
   "outputs": [
    {
     "data": {
      "text/html": [
       "<div>\n",
       "<table border=\"1\" class=\"dataframe\">\n",
       "  <thead>\n",
       "    <tr style=\"text-align: right;\">\n",
       "      <th></th>\n",
       "      <th>COUNT</th>\n",
       "      <th>MEAN</th>\n",
       "      <th>MEDIAN</th>\n",
       "      <th>STD</th>\n",
       "      <th>MIN</th>\n",
       "      <th>25%</th>\n",
       "      <th>50%</th>\n",
       "      <th>75%</th>\n",
       "      <th>MAX</th>\n",
       "    </tr>\n",
       "  </thead>\n",
       "  <tbody>\n",
       "    <tr>\n",
       "      <th>CRET</th>\n",
       "      <td>231</td>\n",
       "      <td>0.38</td>\n",
       "      <td>-0.08</td>\n",
       "      <td>11.54</td>\n",
       "      <td>-30.17</td>\n",
       "      <td>-5.81</td>\n",
       "      <td>-0.08</td>\n",
       "      <td>6.51</td>\n",
       "      <td>27.05</td>\n",
       "    </tr>\n",
       "    <tr>\n",
       "      <th>CAR</th>\n",
       "      <td>231</td>\n",
       "      <td>1.86</td>\n",
       "      <td>1.36</td>\n",
       "      <td>14.56</td>\n",
       "      <td>-30.15</td>\n",
       "      <td>-5.79</td>\n",
       "      <td>1.36</td>\n",
       "      <td>9.70</td>\n",
       "      <td>41.29</td>\n",
       "    </tr>\n",
       "    <tr>\n",
       "      <th>BHAR</th>\n",
       "      <td>231</td>\n",
       "      <td>1.07</td>\n",
       "      <td>1.18</td>\n",
       "      <td>14.04</td>\n",
       "      <td>-32.71</td>\n",
       "      <td>-6.41</td>\n",
       "      <td>1.18</td>\n",
       "      <td>8.79</td>\n",
       "      <td>35.01</td>\n",
       "    </tr>\n",
       "    <tr>\n",
       "      <th>NEWS_ST</th>\n",
       "      <td>231</td>\n",
       "      <td>6.09</td>\n",
       "      <td>2.00</td>\n",
       "      <td>10.05</td>\n",
       "      <td>0.00</td>\n",
       "      <td>0.00</td>\n",
       "      <td>2.00</td>\n",
       "      <td>7.00</td>\n",
       "      <td>46.00</td>\n",
       "    </tr>\n",
       "    <tr>\n",
       "      <th>NEWS_CE</th>\n",
       "      <td>231</td>\n",
       "      <td>19.90</td>\n",
       "      <td>11.00</td>\n",
       "      <td>27.90</td>\n",
       "      <td>0.00</td>\n",
       "      <td>5.00</td>\n",
       "      <td>11.00</td>\n",
       "      <td>21.00</td>\n",
       "      <td>143.00</td>\n",
       "    </tr>\n",
       "    <tr>\n",
       "      <th>SETTLEFUND</th>\n",
       "      <td>231</td>\n",
       "      <td>30.77</td>\n",
       "      <td>8.25</td>\n",
       "      <td>58.89</td>\n",
       "      <td>0.77</td>\n",
       "      <td>3.50</td>\n",
       "      <td>8.25</td>\n",
       "      <td>25.50</td>\n",
       "      <td>290.00</td>\n",
       "    </tr>\n",
       "    <tr>\n",
       "      <th>GAP</th>\n",
       "      <td>231</td>\n",
       "      <td>42.42</td>\n",
       "      <td>38.63</td>\n",
       "      <td>19.98</td>\n",
       "      <td>13.53</td>\n",
       "      <td>26.98</td>\n",
       "      <td>38.63</td>\n",
       "      <td>53.67</td>\n",
       "      <td>95.50</td>\n",
       "    </tr>\n",
       "    <tr>\n",
       "      <th>LGAP</th>\n",
       "      <td>231</td>\n",
       "      <td>7.04</td>\n",
       "      <td>7.06</td>\n",
       "      <td>0.48</td>\n",
       "      <td>6.01</td>\n",
       "      <td>6.70</td>\n",
       "      <td>7.06</td>\n",
       "      <td>7.38</td>\n",
       "      <td>7.96</td>\n",
       "    </tr>\n",
       "    <tr>\n",
       "      <th>SIZE_CE</th>\n",
       "      <td>231</td>\n",
       "      <td>5.05</td>\n",
       "      <td>5.66</td>\n",
       "      <td>3.42</td>\n",
       "      <td>0.00</td>\n",
       "      <td>1.10</td>\n",
       "      <td>5.66</td>\n",
       "      <td>7.44</td>\n",
       "      <td>11.30</td>\n",
       "    </tr>\n",
       "    <tr>\n",
       "      <th>DEBTRATIO_CE</th>\n",
       "      <td>231</td>\n",
       "      <td>0.11</td>\n",
       "      <td>0.00</td>\n",
       "      <td>0.17</td>\n",
       "      <td>0.00</td>\n",
       "      <td>0.00</td>\n",
       "      <td>0.00</td>\n",
       "      <td>0.18</td>\n",
       "      <td>0.64</td>\n",
       "    </tr>\n",
       "    <tr>\n",
       "      <th>M2B_CE</th>\n",
       "      <td>231</td>\n",
       "      <td>1.01</td>\n",
       "      <td>0.72</td>\n",
       "      <td>1.23</td>\n",
       "      <td>0.00</td>\n",
       "      <td>0.00</td>\n",
       "      <td>0.72</td>\n",
       "      <td>1.45</td>\n",
       "      <td>5.54</td>\n",
       "    </tr>\n",
       "    <tr>\n",
       "      <th>AT_CE</th>\n",
       "      <td>231</td>\n",
       "      <td>5.05</td>\n",
       "      <td>5.66</td>\n",
       "      <td>3.42</td>\n",
       "      <td>0.00</td>\n",
       "      <td>1.10</td>\n",
       "      <td>5.66</td>\n",
       "      <td>7.44</td>\n",
       "      <td>11.30</td>\n",
       "    </tr>\n",
       "    <tr>\n",
       "      <th>DLTT_CE</th>\n",
       "      <td>231</td>\n",
       "      <td>2.53</td>\n",
       "      <td>0.00</td>\n",
       "      <td>3.40</td>\n",
       "      <td>-3.41</td>\n",
       "      <td>0.00</td>\n",
       "      <td>0.00</td>\n",
       "      <td>5.62</td>\n",
       "      <td>9.64</td>\n",
       "    </tr>\n",
       "    <tr>\n",
       "      <th>EBIT_CE</th>\n",
       "      <td>231</td>\n",
       "      <td>234.36</td>\n",
       "      <td>0.00</td>\n",
       "      <td>810.92</td>\n",
       "      <td>-350.60</td>\n",
       "      <td>-0.09</td>\n",
       "      <td>0.00</td>\n",
       "      <td>76.54</td>\n",
       "      <td>4,224.00</td>\n",
       "    </tr>\n",
       "    <tr>\n",
       "      <th>FCF_CE</th>\n",
       "      <td>231</td>\n",
       "      <td>65.81</td>\n",
       "      <td>0.00</td>\n",
       "      <td>318.19</td>\n",
       "      <td>-398.89</td>\n",
       "      <td>0.00</td>\n",
       "      <td>0.00</td>\n",
       "      <td>16.69</td>\n",
       "      <td>1,501.18</td>\n",
       "    </tr>\n",
       "    <tr>\n",
       "      <th>SETP_CE</th>\n",
       "      <td>231</td>\n",
       "      <td>-1.10</td>\n",
       "      <td>0.00</td>\n",
       "      <td>7.25</td>\n",
       "      <td>-36.73</td>\n",
       "      <td>0.00</td>\n",
       "      <td>0.00</td>\n",
       "      <td>0.00</td>\n",
       "      <td>14.00</td>\n",
       "    </tr>\n",
       "    <tr>\n",
       "      <th>SETP_SUM</th>\n",
       "      <td>231</td>\n",
       "      <td>-55.20</td>\n",
       "      <td>0.00</td>\n",
       "      <td>217.40</td>\n",
       "      <td>-1,179.00</td>\n",
       "      <td>-11.22</td>\n",
       "      <td>0.00</td>\n",
       "      <td>0.00</td>\n",
       "      <td>53.53</td>\n",
       "    </tr>\n",
       "    <tr>\n",
       "      <th>SIZE_ST</th>\n",
       "      <td>231</td>\n",
       "      <td>6.98</td>\n",
       "      <td>6.76</td>\n",
       "      <td>2.18</td>\n",
       "      <td>2.92</td>\n",
       "      <td>5.51</td>\n",
       "      <td>6.76</td>\n",
       "      <td>8.42</td>\n",
       "      <td>11.60</td>\n",
       "    </tr>\n",
       "    <tr>\n",
       "      <th>DEBTRATIO_ST</th>\n",
       "      <td>231</td>\n",
       "      <td>0.18</td>\n",
       "      <td>0.07</td>\n",
       "      <td>0.22</td>\n",
       "      <td>0.00</td>\n",
       "      <td>0.00</td>\n",
       "      <td>0.07</td>\n",
       "      <td>0.28</td>\n",
       "      <td>0.86</td>\n",
       "    </tr>\n",
       "    <tr>\n",
       "      <th>M2B_ST</th>\n",
       "      <td>231</td>\n",
       "      <td>1.17</td>\n",
       "      <td>0.80</td>\n",
       "      <td>1.16</td>\n",
       "      <td>0.00</td>\n",
       "      <td>0.43</td>\n",
       "      <td>0.80</td>\n",
       "      <td>1.55</td>\n",
       "      <td>5.01</td>\n",
       "    </tr>\n",
       "    <tr>\n",
       "      <th>AT_ST</th>\n",
       "      <td>231</td>\n",
       "      <td>6.98</td>\n",
       "      <td>6.76</td>\n",
       "      <td>2.18</td>\n",
       "      <td>2.92</td>\n",
       "      <td>5.51</td>\n",
       "      <td>6.76</td>\n",
       "      <td>8.42</td>\n",
       "      <td>11.60</td>\n",
       "    </tr>\n",
       "    <tr>\n",
       "      <th>DLTT_ST</th>\n",
       "      <td>231</td>\n",
       "      <td>3.82</td>\n",
       "      <td>4.79</td>\n",
       "      <td>3.60</td>\n",
       "      <td>-2.75</td>\n",
       "      <td>0.00</td>\n",
       "      <td>4.79</td>\n",
       "      <td>6.86</td>\n",
       "      <td>9.93</td>\n",
       "    </tr>\n",
       "    <tr>\n",
       "      <th>EBIT_ST</th>\n",
       "      <td>231</td>\n",
       "      <td>580.94</td>\n",
       "      <td>34.50</td>\n",
       "      <td>1,662.44</td>\n",
       "      <td>-348.83</td>\n",
       "      <td>-8.02</td>\n",
       "      <td>34.50</td>\n",
       "      <td>215.90</td>\n",
       "      <td>8,796.00</td>\n",
       "    </tr>\n",
       "    <tr>\n",
       "      <th>FCF_ST</th>\n",
       "      <td>231</td>\n",
       "      <td>355.66</td>\n",
       "      <td>0.59</td>\n",
       "      <td>1,223.79</td>\n",
       "      <td>-402.46</td>\n",
       "      <td>-3.38</td>\n",
       "      <td>0.59</td>\n",
       "      <td>80.61</td>\n",
       "      <td>6,191.00</td>\n",
       "    </tr>\n",
       "    <tr>\n",
       "      <th>SETP_ST</th>\n",
       "      <td>231</td>\n",
       "      <td>-14.64</td>\n",
       "      <td>0.00</td>\n",
       "      <td>58.33</td>\n",
       "      <td>-326.00</td>\n",
       "      <td>-0.80</td>\n",
       "      <td>0.00</td>\n",
       "      <td>0.00</td>\n",
       "      <td>27.50</td>\n",
       "    </tr>\n",
       "    <tr>\n",
       "      <th>SHARE TURNOVER</th>\n",
       "      <td>231</td>\n",
       "      <td>6.91</td>\n",
       "      <td>6.96</td>\n",
       "      <td>0.82</td>\n",
       "      <td>4.91</td>\n",
       "      <td>6.35</td>\n",
       "      <td>6.96</td>\n",
       "      <td>7.41</td>\n",
       "      <td>8.55</td>\n",
       "    </tr>\n",
       "    <tr>\n",
       "      <th>GC_OPINION</th>\n",
       "      <td>231</td>\n",
       "      <td>0.00</td>\n",
       "      <td>0.00</td>\n",
       "      <td>0.00</td>\n",
       "      <td>0.00</td>\n",
       "      <td>0.00</td>\n",
       "      <td>0.00</td>\n",
       "      <td>0.00</td>\n",
       "      <td>0.00</td>\n",
       "    </tr>\n",
       "    <tr>\n",
       "      <th>GC_OPINION_SUM</th>\n",
       "      <td>231</td>\n",
       "      <td>0.09</td>\n",
       "      <td>0.00</td>\n",
       "      <td>0.37</td>\n",
       "      <td>0.00</td>\n",
       "      <td>0.00</td>\n",
       "      <td>0.00</td>\n",
       "      <td>0.00</td>\n",
       "      <td>2.00</td>\n",
       "    </tr>\n",
       "  </tbody>\n",
       "</table>\n",
       "</div>"
      ],
      "text/plain": [
       "                COUNT                 MEAN               MEDIAN  \\\n",
       "CRET              231                 0.38                -0.08   \n",
       "CAR               231                 1.86                 1.36   \n",
       "BHAR              231                 1.07                 1.18   \n",
       "NEWS_ST           231                 6.09                 2.00   \n",
       "NEWS_CE           231                19.90                11.00   \n",
       "SETTLEFUND        231                30.77                 8.25   \n",
       "GAP               231                42.42                38.63   \n",
       "LGAP              231                 7.04                 7.06   \n",
       "SIZE_CE           231                 5.05                 5.66   \n",
       "DEBTRATIO_CE      231                 0.11                 0.00   \n",
       "M2B_CE            231                 1.01                 0.72   \n",
       "AT_CE             231                 5.05                 5.66   \n",
       "DLTT_CE           231                 2.53                 0.00   \n",
       "EBIT_CE           231               234.36                 0.00   \n",
       "FCF_CE            231                65.81                 0.00   \n",
       "SETP_CE           231                -1.10                 0.00   \n",
       "SETP_SUM          231               -55.20                 0.00   \n",
       "SIZE_ST           231                 6.98                 6.76   \n",
       "DEBTRATIO_ST      231                 0.18                 0.07   \n",
       "M2B_ST            231                 1.17                 0.80   \n",
       "AT_ST             231                 6.98                 6.76   \n",
       "DLTT_ST           231                 3.82                 4.79   \n",
       "EBIT_ST           231               580.94                34.50   \n",
       "FCF_ST            231               355.66                 0.59   \n",
       "SETP_ST           231               -14.64                 0.00   \n",
       "SHARE TURNOVER    231                 6.91                 6.96   \n",
       "GC_OPINION        231                 0.00                 0.00   \n",
       "GC_OPINION_SUM    231                 0.09                 0.00   \n",
       "\n",
       "                                STD                  MIN                  25%  \\\n",
       "CRET                          11.54               -30.17                -5.81   \n",
       "CAR                           14.56               -30.15                -5.79   \n",
       "BHAR                          14.04               -32.71                -6.41   \n",
       "NEWS_ST                       10.05                 0.00                 0.00   \n",
       "NEWS_CE                       27.90                 0.00                 5.00   \n",
       "SETTLEFUND                    58.89                 0.77                 3.50   \n",
       "GAP                           19.98                13.53                26.98   \n",
       "LGAP                           0.48                 6.01                 6.70   \n",
       "SIZE_CE                        3.42                 0.00                 1.10   \n",
       "DEBTRATIO_CE                   0.17                 0.00                 0.00   \n",
       "M2B_CE                         1.23                 0.00                 0.00   \n",
       "AT_CE                          3.42                 0.00                 1.10   \n",
       "DLTT_CE                        3.40                -3.41                 0.00   \n",
       "EBIT_CE                      810.92              -350.60                -0.09   \n",
       "FCF_CE                       318.19              -398.89                 0.00   \n",
       "SETP_CE                        7.25               -36.73                 0.00   \n",
       "SETP_SUM                     217.40            -1,179.00               -11.22   \n",
       "SIZE_ST                        2.18                 2.92                 5.51   \n",
       "DEBTRATIO_ST                   0.22                 0.00                 0.00   \n",
       "M2B_ST                         1.16                 0.00                 0.43   \n",
       "AT_ST                          2.18                 2.92                 5.51   \n",
       "DLTT_ST                        3.60                -2.75                 0.00   \n",
       "EBIT_ST                    1,662.44              -348.83                -8.02   \n",
       "FCF_ST                     1,223.79              -402.46                -3.38   \n",
       "SETP_ST                       58.33              -326.00                -0.80   \n",
       "SHARE TURNOVER                 0.82                 4.91                 6.35   \n",
       "GC_OPINION                     0.00                 0.00                 0.00   \n",
       "GC_OPINION_SUM                 0.37                 0.00                 0.00   \n",
       "\n",
       "                                50%                  75%                  MAX  \n",
       "CRET                          -0.08                 6.51                27.05  \n",
       "CAR                            1.36                 9.70                41.29  \n",
       "BHAR                           1.18                 8.79                35.01  \n",
       "NEWS_ST                        2.00                 7.00                46.00  \n",
       "NEWS_CE                       11.00                21.00               143.00  \n",
       "SETTLEFUND                     8.25                25.50               290.00  \n",
       "GAP                           38.63                53.67                95.50  \n",
       "LGAP                           7.06                 7.38                 7.96  \n",
       "SIZE_CE                        5.66                 7.44                11.30  \n",
       "DEBTRATIO_CE                   0.00                 0.18                 0.64  \n",
       "M2B_CE                         0.72                 1.45                 5.54  \n",
       "AT_CE                          5.66                 7.44                11.30  \n",
       "DLTT_CE                        0.00                 5.62                 9.64  \n",
       "EBIT_CE                        0.00                76.54             4,224.00  \n",
       "FCF_CE                         0.00                16.69             1,501.18  \n",
       "SETP_CE                        0.00                 0.00                14.00  \n",
       "SETP_SUM                       0.00                 0.00                53.53  \n",
       "SIZE_ST                        6.76                 8.42                11.60  \n",
       "DEBTRATIO_ST                   0.07                 0.28                 0.86  \n",
       "M2B_ST                         0.80                 1.55                 5.01  \n",
       "AT_ST                          6.76                 8.42                11.60  \n",
       "DLTT_ST                        4.79                 6.86                 9.93  \n",
       "EBIT_ST                       34.50               215.90             8,796.00  \n",
       "FCF_ST                         0.59                80.61             6,191.00  \n",
       "SETP_ST                        0.00                 0.00                27.50  \n",
       "SHARE TURNOVER                 6.96                 7.41                 8.55  \n",
       "GC_OPINION                     0.00                 0.00                 0.00  \n",
       "GC_OPINION_SUM                 0.00                 0.00                 2.00  "
      ]
     },
     "execution_count": 216,
     "metadata": {},
     "output_type": "execute_result"
    }
   ],
   "source": [
    "description"
   ]
  },
  {
   "cell_type": "code",
   "execution_count": 217,
   "metadata": {
    "collapsed": false
   },
   "outputs": [
    {
     "name": "stdout",
     "output_type": "stream",
     "text": [
      "\\begin{tabular}{lrrrrrrrrr}\n",
      "\\toprule\n",
      "{} &  COUNT &                 MEAN &               MEDIAN &                  STD &                  MIN &                  25\\% &                  50\\% &                  75\\% &                  MAX \\\\\n",
      "\\midrule\n",
      "CRET           &    231 &                 0.38 &                -0.08 &                11.54 &               -30.17 &                -5.81 &                -0.08 &                 6.51 &                27.05 \\\\\n",
      "CAR            &    231 &                 1.86 &                 1.36 &                14.56 &               -30.15 &                -5.79 &                 1.36 &                 9.70 &                41.29 \\\\\n",
      "BHAR           &    231 &                 1.07 &                 1.18 &                14.04 &               -32.71 &                -6.41 &                 1.18 &                 8.79 &                35.01 \\\\\n",
      "NEWS\\_ST        &    231 &                 6.09 &                 2.00 &                10.05 &                 0.00 &                 0.00 &                 2.00 &                 7.00 &                46.00 \\\\\n",
      "NEWS\\_CE        &    231 &                19.90 &                11.00 &                27.90 &                 0.00 &                 5.00 &                11.00 &                21.00 &               143.00 \\\\\n",
      "SETTLEFUND     &    231 &                30.77 &                 8.25 &                58.89 &                 0.77 &                 3.50 &                 8.25 &                25.50 &               290.00 \\\\\n",
      "GAP            &    231 &                42.42 &                38.63 &                19.98 &                13.53 &                26.98 &                38.63 &                53.67 &                95.50 \\\\\n",
      "LGAP           &    231 &                 7.04 &                 7.06 &                 0.48 &                 6.01 &                 6.70 &                 7.06 &                 7.38 &                 7.96 \\\\\n",
      "SIZE\\_CE        &    231 &                 5.05 &                 5.66 &                 3.42 &                 0.00 &                 1.10 &                 5.66 &                 7.44 &                11.30 \\\\\n",
      "DEBTRATIO\\_CE   &    231 &                 0.11 &                 0.00 &                 0.17 &                 0.00 &                 0.00 &                 0.00 &                 0.18 &                 0.64 \\\\\n",
      "M2B\\_CE         &    231 &                 1.01 &                 0.72 &                 1.23 &                 0.00 &                 0.00 &                 0.72 &                 1.45 &                 5.54 \\\\\n",
      "AT\\_CE          &    231 &                 5.05 &                 5.66 &                 3.42 &                 0.00 &                 1.10 &                 5.66 &                 7.44 &                11.30 \\\\\n",
      "DLTT\\_CE        &    231 &                 2.53 &                 0.00 &                 3.40 &                -3.41 &                 0.00 &                 0.00 &                 5.62 &                 9.64 \\\\\n",
      "EBIT\\_CE        &    231 &               234.36 &                 0.00 &               810.92 &              -350.60 &                -0.09 &                 0.00 &                76.54 &             4,224.00 \\\\\n",
      "FCF\\_CE         &    231 &                65.81 &                 0.00 &               318.19 &              -398.89 &                 0.00 &                 0.00 &                16.69 &             1,501.18 \\\\\n",
      "SETP\\_CE        &    231 &                -1.10 &                 0.00 &                 7.25 &               -36.73 &                 0.00 &                 0.00 &                 0.00 &                14.00 \\\\\n",
      "SETP\\_SUM       &    231 &               -55.20 &                 0.00 &               217.40 &            -1,179.00 &               -11.22 &                 0.00 &                 0.00 &                53.53 \\\\\n",
      "SIZE\\_ST        &    231 &                 6.98 &                 6.76 &                 2.18 &                 2.92 &                 5.51 &                 6.76 &                 8.42 &                11.60 \\\\\n",
      "DEBTRATIO\\_ST   &    231 &                 0.18 &                 0.07 &                 0.22 &                 0.00 &                 0.00 &                 0.07 &                 0.28 &                 0.86 \\\\\n",
      "M2B\\_ST         &    231 &                 1.17 &                 0.80 &                 1.16 &                 0.00 &                 0.43 &                 0.80 &                 1.55 &                 5.01 \\\\\n",
      "AT\\_ST          &    231 &                 6.98 &                 6.76 &                 2.18 &                 2.92 &                 5.51 &                 6.76 &                 8.42 &                11.60 \\\\\n",
      "DLTT\\_ST        &    231 &                 3.82 &                 4.79 &                 3.60 &                -2.75 &                 0.00 &                 4.79 &                 6.86 &                 9.93 \\\\\n",
      "EBIT\\_ST        &    231 &               580.94 &                34.50 &             1,662.44 &              -348.83 &                -8.02 &                34.50 &               215.90 &             8,796.00 \\\\\n",
      "FCF\\_ST         &    231 &               355.66 &                 0.59 &             1,223.79 &              -402.46 &                -3.38 &                 0.59 &                80.61 &             6,191.00 \\\\\n",
      "SETP\\_ST        &    231 &               -14.64 &                 0.00 &                58.33 &              -326.00 &                -0.80 &                 0.00 &                 0.00 &                27.50 \\\\\n",
      "SHARE TURNOVER &    231 &                 6.91 &                 6.96 &                 0.82 &                 4.91 &                 6.35 &                 6.96 &                 7.41 &                 8.55 \\\\\n",
      "GC\\_OPINION     &    231 &                 0.00 &                 0.00 &                 0.00 &                 0.00 &                 0.00 &                 0.00 &                 0.00 &                 0.00 \\\\\n",
      "GC\\_OPINION\\_SUM &    231 &                 0.09 &                 0.00 &                 0.37 &                 0.00 &                 0.00 &                 0.00 &                 0.00 &                 2.00 \\\\\n",
      "\\bottomrule\n",
      "\\end{tabular}\n",
      "\n"
     ]
    }
   ],
   "source": [
    "print (description.to_latex())"
   ]
  },
  {
   "cell_type": "code",
   "execution_count": null,
   "metadata": {
    "collapsed": true
   },
   "outputs": [],
   "source": []
  },
  {
   "cell_type": "code",
   "execution_count": 218,
   "metadata": {
    "collapsed": true
   },
   "outputs": [],
   "source": [
    "dataC.to_csv('dataC.csv', encoding='utf-8')"
   ]
  },
  {
   "cell_type": "code",
   "execution_count": null,
   "metadata": {
    "collapsed": true
   },
   "outputs": [],
   "source": []
  },
  {
   "cell_type": "code",
   "execution_count": null,
   "metadata": {
    "collapsed": true
   },
   "outputs": [],
   "source": []
  },
  {
   "cell_type": "code",
   "execution_count": null,
   "metadata": {
    "collapsed": true
   },
   "outputs": [],
   "source": []
  },
  {
   "cell_type": "code",
   "execution_count": null,
   "metadata": {
    "collapsed": true
   },
   "outputs": [],
   "source": []
  },
  {
   "cell_type": "code",
   "execution_count": null,
   "metadata": {
    "collapsed": true
   },
   "outputs": [],
   "source": []
  },
  {
   "cell_type": "code",
   "execution_count": null,
   "metadata": {
    "collapsed": true
   },
   "outputs": [],
   "source": []
  },
  {
   "cell_type": "code",
   "execution_count": null,
   "metadata": {
    "collapsed": true
   },
   "outputs": [],
   "source": []
  },
  {
   "cell_type": "code",
   "execution_count": null,
   "metadata": {
    "collapsed": true
   },
   "outputs": [],
   "source": []
  },
  {
   "cell_type": "code",
   "execution_count": null,
   "metadata": {
    "collapsed": true
   },
   "outputs": [],
   "source": []
  },
  {
   "cell_type": "code",
   "execution_count": null,
   "metadata": {
    "collapsed": true
   },
   "outputs": [],
   "source": []
  },
  {
   "cell_type": "code",
   "execution_count": null,
   "metadata": {
    "collapsed": true
   },
   "outputs": [],
   "source": []
  },
  {
   "cell_type": "code",
   "execution_count": null,
   "metadata": {
    "collapsed": true
   },
   "outputs": [],
   "source": []
  },
  {
   "cell_type": "code",
   "execution_count": null,
   "metadata": {
    "collapsed": true
   },
   "outputs": [],
   "source": []
  },
  {
   "cell_type": "code",
   "execution_count": null,
   "metadata": {
    "collapsed": true
   },
   "outputs": [],
   "source": []
  },
  {
   "cell_type": "code",
   "execution_count": null,
   "metadata": {
    "collapsed": true
   },
   "outputs": [],
   "source": []
  },
  {
   "cell_type": "code",
   "execution_count": null,
   "metadata": {
    "collapsed": true
   },
   "outputs": [],
   "source": []
  },
  {
   "cell_type": "code",
   "execution_count": null,
   "metadata": {
    "collapsed": true
   },
   "outputs": [],
   "source": []
  }
 ],
 "metadata": {
  "kernelspec": {
   "display_name": "Python 3",
   "language": "python",
   "name": "python3"
  },
  "language_info": {
   "codemirror_mode": {
    "name": "ipython",
    "version": 3
   },
   "file_extension": ".py",
   "mimetype": "text/x-python",
   "name": "python",
   "nbconvert_exporter": "python",
   "pygments_lexer": "ipython3",
   "version": "3.5.1"
  }
 },
 "nbformat": 4,
 "nbformat_minor": 0
}
