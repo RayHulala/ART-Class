{
 "cells": [
  {
   "cell_type": "code",
   "execution_count": 1,
   "metadata": {
    "collapsed": true
   },
   "outputs": [],
   "source": [
    "import pandas as pd\n",
    "import numpy as np\n",
    "import matplotlib.pyplot as plt\n",
    "import seaborn as sns\n",
    "import scipy.stats"
   ]
  },
  {
   "cell_type": "code",
   "execution_count": 2,
   "metadata": {
    "collapsed": false
   },
   "outputs": [],
   "source": [
    "dataC = pd.DataFrame.from_csv('dataF.csv', index_col=None)\n",
    "dataC['news_st']=dataC['news_st'].astype(float)\n",
    "dataC['news_ce']=dataC['news_ce'].astype(float)\n",
    "dataC['size_st']=np.log(dataC['mkvalt_st'])\n",
    "dataC['size_ce']=np.log(dataC['mkvalt_ce'])\n",
    "dataC['cret_st']=dataC['cret_st']*100\n",
    "dataC['car_st']=dataC['car_st']*100\n",
    "dataC['bhar_st']=dataC['bhar_st']*100"
   ]
  },
  {
   "cell_type": "code",
   "execution_count": 3,
   "metadata": {
    "collapsed": true
   },
   "outputs": [],
   "source": [
    "car = pd.DataFrame.from_csv('car ce.csv', index_col=None)\n",
    "car = car[['tic','classend','cret_ce','car_ce','bhar_ce']]\n",
    "car['cret_ce']=car['cret_ce']*10000\n",
    "car['car_ce']=car['car_ce']*10000\n",
    "car['bhar_ce']=car['bhar_ce']*10000"
   ]
  },
  {
   "cell_type": "code",
   "execution_count": 4,
   "metadata": {
    "collapsed": false
   },
   "outputs": [],
   "source": [
    "car['classend'] = pd.to_datetime(car['classend'].astype(str), format='%d-%b-%y')"
   ]
  },
  {
   "cell_type": "code",
   "execution_count": 5,
   "metadata": {
    "collapsed": false
   },
   "outputs": [],
   "source": [
    "dataC['classend'] = pd.to_datetime(dataC['classend'].astype(str), format='%m/%d/%Y')"
   ]
  },
  {
   "cell_type": "code",
   "execution_count": 6,
   "metadata": {
    "collapsed": false
   },
   "outputs": [],
   "source": [
    "dataC = pd.merge(dataC, car, how = 'left', on = ['tic', 'classend'])"
   ]
  },
  {
   "cell_type": "code",
   "execution_count": 7,
   "metadata": {
    "collapsed": true
   },
   "outputs": [],
   "source": [
    "dataC = dataC.rename(columns={'settleamt':'settlefund','share turnover':'shto','abnormal share turnover':'abshto'})"
   ]
  },
  {
   "cell_type": "code",
   "execution_count": 8,
   "metadata": {
    "collapsed": false
   },
   "outputs": [],
   "source": [
    "dataC = dataC.fillna(0)\n",
    "dataC = dataC.replace([np.inf, -np.inf], 0)"
   ]
  },
  {
   "cell_type": "code",
   "execution_count": 9,
   "metadata": {
    "collapsed": true
   },
   "outputs": [],
   "source": [
    "dataC['financial market'] = dataC['secondary market & trading'] + dataC ['financial intermediatary']\n",
    "dataC['operation and others'] = dataC['non-accounting disclsoure and misrepresentation'] + dataC ['others']"
   ]
  },
  {
   "cell_type": "code",
   "execution_count": 10,
   "metadata": {
    "collapsed": false
   },
   "outputs": [],
   "source": [
    "dataC['sic']=dataC['sic'].astype(int)"
   ]
  },
  {
   "cell_type": "code",
   "execution_count": 11,
   "metadata": {
    "collapsed": false
   },
   "outputs": [],
   "source": [
    "dataC['other industry'] = np.where((dataC['sic']<2000), 1, 0)\n",
    "dataC['manufacture'] = np.where((dataC['sic'] > 1999) &  (dataC['sic']<4000) , 1, 0)\n",
    "dataC['tmt'] = np.where((dataC['sic'] > 3999) & (dataC['sic']<5000) , 1, 0)\n",
    "dataC['trade'] = np.where((dataC['sic'] > 4999) & (dataC['sic']<6000) , 1, 0)\n",
    "dataC['financial service'] = np.where((dataC['sic'] > 5999) & (dataC['sic']<6800) ,1, 0)\n",
    "dataC['service'] = np.where((dataC['sic'] > 6800),1, 0)"
   ]
  },
  {
   "cell_type": "markdown",
   "metadata": {
    "collapsed": true
   },
   "source": [
    "'stfundpct','stfundpct1','stfundpct2','stfundpct3','stfundpct4','stfundpct5',"
   ]
  },
  {
   "cell_type": "markdown",
   "metadata": {
    "collapsed": false
   },
   "source": [
    "vartowin= ['cret', 'car', 'bhar','gap', 'lgap', 'at_st', 'capx_st', 'ceq_st', 'dltt_st', 'dp_st',\n",
    " 'dt_st', 'ebit_st', 'setp_st', 'txpd_st', 'wcap', 'xintd_st', 'mkvalt_st', 'wcap_1_st', 'dwcap_st', 'fcf_st','fcf_1_st','ebit_1_st',\n",
    " 'size_st', 'debtratio_st', 'm2b_st', 'at_ce', 'capx_ce', 'ceq_ce', 'dltt_ce', 'dp_ce', 'dt_ce', 'ebit_ce',\n",
    "'fcf_1_ce','ebit_1_ce','revt_st','revt_ce','skewness',\n",
    " 'setp_ce', 'txpd_ce', 'wcap_ce', 'xintd_ce', 'mkvalt_ce', 'wcap_1_ce', 'dwcap_ce', 'fcf_ce', 'size_ce','debtratio_ce',\n",
    " 'm2b_ce', 'prc', 'vol', 'shrout', 'sprtrn', 'vt', 'shto','abnormal volume', 'abshto','news_st','news_ce','settlefund']"
   ]
  },
  {
   "cell_type": "code",
   "execution_count": null,
   "metadata": {
    "collapsed": true
   },
   "outputs": [],
   "source": []
  },
  {
   "cell_type": "markdown",
   "metadata": {
    "collapsed": false
   },
   "source": [
    "#for i in vartowin:\n",
    "    dataC[i] = scipy.stats.mstats.winsorize(dataC[i], limits=0.01)"
   ]
  },
  {
   "cell_type": "markdown",
   "metadata": {
    "collapsed": false
   },
   "source": [
    "#dataC['skewness'].describe()"
   ]
  },
  {
   "cell_type": "code",
   "execution_count": 12,
   "metadata": {
    "collapsed": true
   },
   "outputs": [],
   "source": [
    "dataC['dltt_st'] = np.log(dataC['dltt_st'])\n",
    "dataC['dltt_ce'] = np.log(dataC['dltt_ce'])\n",
    "dataC['gap'] = (dataC['gap'])/30\n",
    "dataC['stfundpct'] = dataC['settlefund'].div(dataC.ebit_st, axis=0)\n",
    "dataC['stfundpct1'] = dataC['settlefund'].div(dataC.revt_st, axis=0)\n",
    "dataC['stfundpct2'] = dataC['ebit_st'] - dataC['settlefund']\n",
    "dataC['stfundpct3'] = dataC['settlefund'].div(dataC.at_st, axis=0)\n",
    "dataC['stfundpct4'] = dataC['stfundpct']**2\n",
    "dataC['stfundpct5'] = dataC['stfundpct1']**2"
   ]
  },
  {
   "cell_type": "code",
   "execution_count": null,
   "metadata": {
    "collapsed": false
   },
   "outputs": [],
   "source": []
  },
  {
   "cell_type": "code",
   "execution_count": 13,
   "metadata": {
    "collapsed": true
   },
   "outputs": [],
   "source": [
    "dataC = dataC.fillna(0)\n",
    "dataC = dataC.replace([np.inf, -np.inf], 0)"
   ]
  },
  {
   "cell_type": "code",
   "execution_count": 14,
   "metadata": {
    "collapsed": true
   },
   "outputs": [],
   "source": [
    "dataC.to_csv('dataC.csv', encoding='utf-8',index = False)"
   ]
  },
  {
   "cell_type": "code",
   "execution_count": 15,
   "metadata": {
    "collapsed": true
   },
   "outputs": [],
   "source": [
    "median = dataC.median(axis = 0)"
   ]
  },
  {
   "cell_type": "code",
   "execution_count": 17,
   "metadata": {
    "collapsed": false
   },
   "outputs": [],
   "source": [
    "description = dataC.describe().transpose()\n",
    "description['median'] = median\n",
    "description.columns = map(str.upper, description.columns)\n",
    "description = description[['MEAN', 'STD', 'MIN', '25%', 'MEDIAN', '75%', 'MAX']]\n",
    "description.index = map(str.upper, description.index)"
   ]
  },
  {
   "cell_type": "code",
   "execution_count": 19,
   "metadata": {
    "collapsed": false
   },
   "outputs": [],
   "source": [
    "description = description.reindex(['CRET_ST', 'CAR_ST', 'BHAR_ST','CRET_CE', 'CAR_CE', 'BHAR_CE',\n",
    "                                   'NEWS_ST', 'NEWS_CE','SETTLEFUND','STFUNDPCT','ACCOUNTING','FINANCIAL MARKET',\n",
    "'OPERATION AND OTHERS','GAP', 'LGAP', 'SIZE_CE','DEBTRATIO_CE','M2B_CE','EBIT_CE','SETP_CE','SIZE_ST', 'DEBTRATIO_ST','M2B_ST','EBIT_ST',\n",
    "                                   'ABSHTO','INST_PCT'])\n",
    "pd.options.display.float_format = '{:20,.2f}'.format\n"
   ]
  },
  {
   "cell_type": "code",
   "execution_count": 20,
   "metadata": {
    "collapsed": false
   },
   "outputs": [
    {
     "data": {
      "text/html": [
       "<div>\n",
       "<table border=\"1\" class=\"dataframe\">\n",
       "  <thead>\n",
       "    <tr style=\"text-align: right;\">\n",
       "      <th></th>\n",
       "      <th>MEAN</th>\n",
       "      <th>STD</th>\n",
       "      <th>MIN</th>\n",
       "      <th>25%</th>\n",
       "      <th>MEDIAN</th>\n",
       "      <th>75%</th>\n",
       "      <th>MAX</th>\n",
       "    </tr>\n",
       "  </thead>\n",
       "  <tbody>\n",
       "    <tr>\n",
       "      <th>CRET_ST</th>\n",
       "      <td>209.94</td>\n",
       "      <td>2,921.65</td>\n",
       "      <td>-5,711.21</td>\n",
       "      <td>-580.99</td>\n",
       "      <td>-8.20</td>\n",
       "      <td>650.98</td>\n",
       "      <td>38,329.62</td>\n",
       "    </tr>\n",
       "    <tr>\n",
       "      <th>CAR_ST</th>\n",
       "      <td>209.75</td>\n",
       "      <td>2,333.40</td>\n",
       "      <td>-9,197.36</td>\n",
       "      <td>-578.51</td>\n",
       "      <td>135.88</td>\n",
       "      <td>970.03</td>\n",
       "      <td>22,671.55</td>\n",
       "    </tr>\n",
       "    <tr>\n",
       "      <th>BHAR_ST</th>\n",
       "      <td>217.04</td>\n",
       "      <td>3,096.03</td>\n",
       "      <td>-12,084.06</td>\n",
       "      <td>-641.46</td>\n",
       "      <td>117.55</td>\n",
       "      <td>879.42</td>\n",
       "      <td>37,394.66</td>\n",
       "    </tr>\n",
       "    <tr>\n",
       "      <th>CRET_CE</th>\n",
       "      <td>-2,595.59</td>\n",
       "      <td>2,191.16</td>\n",
       "      <td>-8,285.27</td>\n",
       "      <td>-4,170.85</td>\n",
       "      <td>-2,307.69</td>\n",
       "      <td>-1,038.75</td>\n",
       "      <td>7,633.41</td>\n",
       "    </tr>\n",
       "    <tr>\n",
       "      <th>CAR_CE</th>\n",
       "      <td>-2,232.67</td>\n",
       "      <td>3,020.09</td>\n",
       "      <td>-12,723.27</td>\n",
       "      <td>-4,077.17</td>\n",
       "      <td>-1,935.80</td>\n",
       "      <td>-613.77</td>\n",
       "      <td>17,690.05</td>\n",
       "    </tr>\n",
       "    <tr>\n",
       "      <th>BHAR_CE</th>\n",
       "      <td>-2,205.11</td>\n",
       "      <td>2,370.28</td>\n",
       "      <td>-9,422.09</td>\n",
       "      <td>-3,829.15</td>\n",
       "      <td>-1,976.87</td>\n",
       "      <td>-679.30</td>\n",
       "      <td>6,372.09</td>\n",
       "    </tr>\n",
       "    <tr>\n",
       "      <th>NEWS_ST</th>\n",
       "      <td>7.31</td>\n",
       "      <td>18.45</td>\n",
       "      <td>0.00</td>\n",
       "      <td>0.00</td>\n",
       "      <td>2.00</td>\n",
       "      <td>7.00</td>\n",
       "      <td>185.00</td>\n",
       "    </tr>\n",
       "    <tr>\n",
       "      <th>NEWS_CE</th>\n",
       "      <td>22.22</td>\n",
       "      <td>44.00</td>\n",
       "      <td>0.00</td>\n",
       "      <td>5.00</td>\n",
       "      <td>11.00</td>\n",
       "      <td>21.00</td>\n",
       "      <td>490.00</td>\n",
       "    </tr>\n",
       "    <tr>\n",
       "      <th>SETTLEFUND</th>\n",
       "      <td>76.02</td>\n",
       "      <td>494.47</td>\n",
       "      <td>0.00</td>\n",
       "      <td>3.50</td>\n",
       "      <td>8.25</td>\n",
       "      <td>25.50</td>\n",
       "      <td>7,000.00</td>\n",
       "    </tr>\n",
       "    <tr>\n",
       "      <th>STFUNDPCT</th>\n",
       "      <td>0.24</td>\n",
       "      <td>5.68</td>\n",
       "      <td>-34.44</td>\n",
       "      <td>-0.13</td>\n",
       "      <td>0.01</td>\n",
       "      <td>0.14</td>\n",
       "      <td>75.35</td>\n",
       "    </tr>\n",
       "    <tr>\n",
       "      <th>ACCOUNTING</th>\n",
       "      <td>0.48</td>\n",
       "      <td>0.50</td>\n",
       "      <td>0.00</td>\n",
       "      <td>0.00</td>\n",
       "      <td>0.00</td>\n",
       "      <td>1.00</td>\n",
       "      <td>1.00</td>\n",
       "    </tr>\n",
       "    <tr>\n",
       "      <th>FINANCIAL MARKET</th>\n",
       "      <td>0.11</td>\n",
       "      <td>0.32</td>\n",
       "      <td>0.00</td>\n",
       "      <td>0.00</td>\n",
       "      <td>0.00</td>\n",
       "      <td>0.00</td>\n",
       "      <td>1.00</td>\n",
       "    </tr>\n",
       "    <tr>\n",
       "      <th>OPERATION AND OTHERS</th>\n",
       "      <td>0.41</td>\n",
       "      <td>0.49</td>\n",
       "      <td>0.00</td>\n",
       "      <td>0.00</td>\n",
       "      <td>0.00</td>\n",
       "      <td>1.00</td>\n",
       "      <td>1.00</td>\n",
       "    </tr>\n",
       "    <tr>\n",
       "      <th>GAP</th>\n",
       "      <td>42.62</td>\n",
       "      <td>20.96</td>\n",
       "      <td>0.90</td>\n",
       "      <td>26.98</td>\n",
       "      <td>38.63</td>\n",
       "      <td>53.67</td>\n",
       "      <td>121.87</td>\n",
       "    </tr>\n",
       "    <tr>\n",
       "      <th>LGAP</th>\n",
       "      <td>7.04</td>\n",
       "      <td>0.49</td>\n",
       "      <td>5.41</td>\n",
       "      <td>6.70</td>\n",
       "      <td>7.06</td>\n",
       "      <td>7.38</td>\n",
       "      <td>8.04</td>\n",
       "    </tr>\n",
       "    <tr>\n",
       "      <th>SIZE_CE</th>\n",
       "      <td>4.12</td>\n",
       "      <td>3.51</td>\n",
       "      <td>0.00</td>\n",
       "      <td>0.00</td>\n",
       "      <td>5.02</td>\n",
       "      <td>6.90</td>\n",
       "      <td>11.84</td>\n",
       "    </tr>\n",
       "    <tr>\n",
       "      <th>DEBTRATIO_CE</th>\n",
       "      <td>0.11</td>\n",
       "      <td>0.25</td>\n",
       "      <td>0.00</td>\n",
       "      <td>0.00</td>\n",
       "      <td>0.00</td>\n",
       "      <td>0.14</td>\n",
       "      <td>2.44</td>\n",
       "    </tr>\n",
       "    <tr>\n",
       "      <th>M2B_CE</th>\n",
       "      <td>1.66</td>\n",
       "      <td>11.99</td>\n",
       "      <td>0.00</td>\n",
       "      <td>0.00</td>\n",
       "      <td>0.49</td>\n",
       "      <td>1.29</td>\n",
       "      <td>182.15</td>\n",
       "    </tr>\n",
       "    <tr>\n",
       "      <th>EBIT_CE</th>\n",
       "      <td>162.85</td>\n",
       "      <td>901.52</td>\n",
       "      <td>-553.15</td>\n",
       "      <td>0.00</td>\n",
       "      <td>0.00</td>\n",
       "      <td>40.95</td>\n",
       "      <td>11,714.00</td>\n",
       "    </tr>\n",
       "    <tr>\n",
       "      <th>SETP_CE</th>\n",
       "      <td>-3.15</td>\n",
       "      <td>88.60</td>\n",
       "      <td>-1,045.00</td>\n",
       "      <td>0.00</td>\n",
       "      <td>0.00</td>\n",
       "      <td>0.00</td>\n",
       "      <td>775.00</td>\n",
       "    </tr>\n",
       "    <tr>\n",
       "      <th>SIZE_ST</th>\n",
       "      <td>6.29</td>\n",
       "      <td>2.62</td>\n",
       "      <td>0.00</td>\n",
       "      <td>5.04</td>\n",
       "      <td>6.38</td>\n",
       "      <td>7.74</td>\n",
       "      <td>12.47</td>\n",
       "    </tr>\n",
       "    <tr>\n",
       "      <th>DEBTRATIO_ST</th>\n",
       "      <td>0.18</td>\n",
       "      <td>0.25</td>\n",
       "      <td>0.00</td>\n",
       "      <td>0.00</td>\n",
       "      <td>0.07</td>\n",
       "      <td>0.28</td>\n",
       "      <td>1.82</td>\n",
       "    </tr>\n",
       "    <tr>\n",
       "      <th>M2B_ST</th>\n",
       "      <td>1.40</td>\n",
       "      <td>3.71</td>\n",
       "      <td>0.00</td>\n",
       "      <td>0.43</td>\n",
       "      <td>0.80</td>\n",
       "      <td>1.55</td>\n",
       "      <td>54.55</td>\n",
       "    </tr>\n",
       "    <tr>\n",
       "      <th>EBIT_ST</th>\n",
       "      <td>474.35</td>\n",
       "      <td>1,994.88</td>\n",
       "      <td>-835.69</td>\n",
       "      <td>-7.39</td>\n",
       "      <td>9.37</td>\n",
       "      <td>127.40</td>\n",
       "      <td>18,385.00</td>\n",
       "    </tr>\n",
       "    <tr>\n",
       "      <th>ABSHTO</th>\n",
       "      <td>0.65</td>\n",
       "      <td>15.39</td>\n",
       "      <td>-88.96</td>\n",
       "      <td>-3.14</td>\n",
       "      <td>-1.01</td>\n",
       "      <td>1.56</td>\n",
       "      <td>148.02</td>\n",
       "    </tr>\n",
       "    <tr>\n",
       "      <th>INST_PCT</th>\n",
       "      <td>66.57</td>\n",
       "      <td>32.62</td>\n",
       "      <td>0.00</td>\n",
       "      <td>48.08</td>\n",
       "      <td>71.51</td>\n",
       "      <td>87.06</td>\n",
       "      <td>240.86</td>\n",
       "    </tr>\n",
       "  </tbody>\n",
       "</table>\n",
       "</div>"
      ],
      "text/plain": [
       "                                     MEAN                  STD  \\\n",
       "CRET_ST                            209.94             2,921.65   \n",
       "CAR_ST                             209.75             2,333.40   \n",
       "BHAR_ST                            217.04             3,096.03   \n",
       "CRET_CE                         -2,595.59             2,191.16   \n",
       "CAR_CE                          -2,232.67             3,020.09   \n",
       "BHAR_CE                         -2,205.11             2,370.28   \n",
       "NEWS_ST                              7.31                18.45   \n",
       "NEWS_CE                             22.22                44.00   \n",
       "SETTLEFUND                          76.02               494.47   \n",
       "STFUNDPCT                            0.24                 5.68   \n",
       "ACCOUNTING                           0.48                 0.50   \n",
       "FINANCIAL MARKET                     0.11                 0.32   \n",
       "OPERATION AND OTHERS                 0.41                 0.49   \n",
       "GAP                                 42.62                20.96   \n",
       "LGAP                                 7.04                 0.49   \n",
       "SIZE_CE                              4.12                 3.51   \n",
       "DEBTRATIO_CE                         0.11                 0.25   \n",
       "M2B_CE                               1.66                11.99   \n",
       "EBIT_CE                            162.85               901.52   \n",
       "SETP_CE                             -3.15                88.60   \n",
       "SIZE_ST                              6.29                 2.62   \n",
       "DEBTRATIO_ST                         0.18                 0.25   \n",
       "M2B_ST                               1.40                 3.71   \n",
       "EBIT_ST                            474.35             1,994.88   \n",
       "ABSHTO                               0.65                15.39   \n",
       "INST_PCT                            66.57                32.62   \n",
       "\n",
       "                                      MIN                  25%  \\\n",
       "CRET_ST                         -5,711.21              -580.99   \n",
       "CAR_ST                          -9,197.36              -578.51   \n",
       "BHAR_ST                        -12,084.06              -641.46   \n",
       "CRET_CE                         -8,285.27            -4,170.85   \n",
       "CAR_CE                         -12,723.27            -4,077.17   \n",
       "BHAR_CE                         -9,422.09            -3,829.15   \n",
       "NEWS_ST                              0.00                 0.00   \n",
       "NEWS_CE                              0.00                 5.00   \n",
       "SETTLEFUND                           0.00                 3.50   \n",
       "STFUNDPCT                          -34.44                -0.13   \n",
       "ACCOUNTING                           0.00                 0.00   \n",
       "FINANCIAL MARKET                     0.00                 0.00   \n",
       "OPERATION AND OTHERS                 0.00                 0.00   \n",
       "GAP                                  0.90                26.98   \n",
       "LGAP                                 5.41                 6.70   \n",
       "SIZE_CE                              0.00                 0.00   \n",
       "DEBTRATIO_CE                         0.00                 0.00   \n",
       "M2B_CE                               0.00                 0.00   \n",
       "EBIT_CE                           -553.15                 0.00   \n",
       "SETP_CE                         -1,045.00                 0.00   \n",
       "SIZE_ST                              0.00                 5.04   \n",
       "DEBTRATIO_ST                         0.00                 0.00   \n",
       "M2B_ST                               0.00                 0.43   \n",
       "EBIT_ST                           -835.69                -7.39   \n",
       "ABSHTO                             -88.96                -3.14   \n",
       "INST_PCT                             0.00                48.08   \n",
       "\n",
       "                                   MEDIAN                  75%  \\\n",
       "CRET_ST                             -8.20               650.98   \n",
       "CAR_ST                             135.88               970.03   \n",
       "BHAR_ST                            117.55               879.42   \n",
       "CRET_CE                         -2,307.69            -1,038.75   \n",
       "CAR_CE                          -1,935.80              -613.77   \n",
       "BHAR_CE                         -1,976.87              -679.30   \n",
       "NEWS_ST                              2.00                 7.00   \n",
       "NEWS_CE                             11.00                21.00   \n",
       "SETTLEFUND                           8.25                25.50   \n",
       "STFUNDPCT                            0.01                 0.14   \n",
       "ACCOUNTING                           0.00                 1.00   \n",
       "FINANCIAL MARKET                     0.00                 0.00   \n",
       "OPERATION AND OTHERS                 0.00                 1.00   \n",
       "GAP                                 38.63                53.67   \n",
       "LGAP                                 7.06                 7.38   \n",
       "SIZE_CE                              5.02                 6.90   \n",
       "DEBTRATIO_CE                         0.00                 0.14   \n",
       "M2B_CE                               0.49                 1.29   \n",
       "EBIT_CE                              0.00                40.95   \n",
       "SETP_CE                              0.00                 0.00   \n",
       "SIZE_ST                              6.38                 7.74   \n",
       "DEBTRATIO_ST                         0.07                 0.28   \n",
       "M2B_ST                               0.80                 1.55   \n",
       "EBIT_ST                              9.37               127.40   \n",
       "ABSHTO                              -1.01                 1.56   \n",
       "INST_PCT                            71.51                87.06   \n",
       "\n",
       "                                      MAX  \n",
       "CRET_ST                         38,329.62  \n",
       "CAR_ST                          22,671.55  \n",
       "BHAR_ST                         37,394.66  \n",
       "CRET_CE                          7,633.41  \n",
       "CAR_CE                          17,690.05  \n",
       "BHAR_CE                          6,372.09  \n",
       "NEWS_ST                            185.00  \n",
       "NEWS_CE                            490.00  \n",
       "SETTLEFUND                       7,000.00  \n",
       "STFUNDPCT                           75.35  \n",
       "ACCOUNTING                           1.00  \n",
       "FINANCIAL MARKET                     1.00  \n",
       "OPERATION AND OTHERS                 1.00  \n",
       "GAP                                121.87  \n",
       "LGAP                                 8.04  \n",
       "SIZE_CE                             11.84  \n",
       "DEBTRATIO_CE                         2.44  \n",
       "M2B_CE                             182.15  \n",
       "EBIT_CE                         11,714.00  \n",
       "SETP_CE                            775.00  \n",
       "SIZE_ST                             12.47  \n",
       "DEBTRATIO_ST                         1.82  \n",
       "M2B_ST                              54.55  \n",
       "EBIT_ST                         18,385.00  \n",
       "ABSHTO                             148.02  \n",
       "INST_PCT                           240.86  "
      ]
     },
     "execution_count": 20,
     "metadata": {},
     "output_type": "execute_result"
    }
   ],
   "source": [
    "description"
   ]
  },
  {
   "cell_type": "code",
   "execution_count": 21,
   "metadata": {
    "collapsed": false
   },
   "outputs": [
    {
     "name": "stdout",
     "output_type": "stream",
     "text": [
      "\\begin{tabular}{lrrrrrrr}\n",
      "\\toprule\n",
      "{} &                 MEAN &                  STD &                  MIN &                  25\\% &               MEDIAN &                  75\\% &                  MAX \\\\\n",
      "\\midrule\n",
      "CRET\\_ST              &               209.94 &             2,921.65 &            -5,711.21 &              -580.99 &                -8.20 &               650.98 &            38,329.62 \\\\\n",
      "CAR\\_ST               &               209.75 &             2,333.40 &            -9,197.36 &              -578.51 &               135.88 &               970.03 &            22,671.55 \\\\\n",
      "BHAR\\_ST              &               217.04 &             3,096.03 &           -12,084.06 &              -641.46 &               117.55 &               879.42 &            37,394.66 \\\\\n",
      "CRET\\_CE              &            -2,595.59 &             2,191.16 &            -8,285.27 &            -4,170.85 &            -2,307.69 &            -1,038.75 &             7,633.41 \\\\\n",
      "CAR\\_CE               &            -2,232.67 &             3,020.09 &           -12,723.27 &            -4,077.17 &            -1,935.80 &              -613.77 &            17,690.05 \\\\\n",
      "BHAR\\_CE              &            -2,205.11 &             2,370.28 &            -9,422.09 &            -3,829.15 &            -1,976.87 &              -679.30 &             6,372.09 \\\\\n",
      "NEWS\\_ST              &                 7.31 &                18.45 &                 0.00 &                 0.00 &                 2.00 &                 7.00 &               185.00 \\\\\n",
      "NEWS\\_CE              &                22.22 &                44.00 &                 0.00 &                 5.00 &                11.00 &                21.00 &               490.00 \\\\\n",
      "SETTLEFUND           &                76.02 &               494.47 &                 0.00 &                 3.50 &                 8.25 &                25.50 &             7,000.00 \\\\\n",
      "STFUNDPCT            &                 0.24 &                 5.68 &               -34.44 &                -0.13 &                 0.01 &                 0.14 &                75.35 \\\\\n",
      "ACCOUNTING           &                 0.48 &                 0.50 &                 0.00 &                 0.00 &                 0.00 &                 1.00 &                 1.00 \\\\\n",
      "FINANCIAL MARKET     &                 0.11 &                 0.32 &                 0.00 &                 0.00 &                 0.00 &                 0.00 &                 1.00 \\\\\n",
      "OPERATION AND OTHERS &                 0.41 &                 0.49 &                 0.00 &                 0.00 &                 0.00 &                 1.00 &                 1.00 \\\\\n",
      "GAP                  &                42.62 &                20.96 &                 0.90 &                26.98 &                38.63 &                53.67 &               121.87 \\\\\n",
      "LGAP                 &                 7.04 &                 0.49 &                 5.41 &                 6.70 &                 7.06 &                 7.38 &                 8.04 \\\\\n",
      "SIZE\\_CE              &                 4.12 &                 3.51 &                 0.00 &                 0.00 &                 5.02 &                 6.90 &                11.84 \\\\\n",
      "DEBTRATIO\\_CE         &                 0.11 &                 0.25 &                 0.00 &                 0.00 &                 0.00 &                 0.14 &                 2.44 \\\\\n",
      "M2B\\_CE               &                 1.66 &                11.99 &                 0.00 &                 0.00 &                 0.49 &                 1.29 &               182.15 \\\\\n",
      "EBIT\\_CE              &               162.85 &               901.52 &              -553.15 &                 0.00 &                 0.00 &                40.95 &            11,714.00 \\\\\n",
      "SETP\\_CE              &                -3.15 &                88.60 &            -1,045.00 &                 0.00 &                 0.00 &                 0.00 &               775.00 \\\\\n",
      "SIZE\\_ST              &                 6.29 &                 2.62 &                 0.00 &                 5.04 &                 6.38 &                 7.74 &                12.47 \\\\\n",
      "DEBTRATIO\\_ST         &                 0.18 &                 0.25 &                 0.00 &                 0.00 &                 0.07 &                 0.28 &                 1.82 \\\\\n",
      "M2B\\_ST               &                 1.40 &                 3.71 &                 0.00 &                 0.43 &                 0.80 &                 1.55 &                54.55 \\\\\n",
      "EBIT\\_ST              &               474.35 &             1,994.88 &              -835.69 &                -7.39 &                 9.37 &               127.40 &            18,385.00 \\\\\n",
      "ABSHTO               &                 0.65 &                15.39 &               -88.96 &                -3.14 &                -1.01 &                 1.56 &               148.02 \\\\\n",
      "INST\\_PCT             &                66.57 &                32.62 &                 0.00 &                48.08 &                71.51 &                87.06 &               240.86 \\\\\n",
      "\\bottomrule\n",
      "\\end{tabular}\n",
      "\n"
     ]
    }
   ],
   "source": [
    "print (description.to_latex())"
   ]
  },
  {
   "cell_type": "code",
   "execution_count": null,
   "metadata": {
    "collapsed": true
   },
   "outputs": [],
   "source": []
  },
  {
   "cell_type": "code",
   "execution_count": 65,
   "metadata": {
    "collapsed": true
   },
   "outputs": [],
   "source": []
  },
  {
   "cell_type": "code",
   "execution_count": null,
   "metadata": {
    "collapsed": true
   },
   "outputs": [],
   "source": []
  },
  {
   "cell_type": "code",
   "execution_count": null,
   "metadata": {
    "collapsed": true
   },
   "outputs": [],
   "source": []
  },
  {
   "cell_type": "code",
   "execution_count": null,
   "metadata": {
    "collapsed": true
   },
   "outputs": [],
   "source": []
  },
  {
   "cell_type": "code",
   "execution_count": null,
   "metadata": {
    "collapsed": true
   },
   "outputs": [],
   "source": []
  },
  {
   "cell_type": "code",
   "execution_count": null,
   "metadata": {
    "collapsed": true
   },
   "outputs": [],
   "source": []
  },
  {
   "cell_type": "code",
   "execution_count": null,
   "metadata": {
    "collapsed": true
   },
   "outputs": [],
   "source": []
  },
  {
   "cell_type": "code",
   "execution_count": null,
   "metadata": {
    "collapsed": true
   },
   "outputs": [],
   "source": []
  },
  {
   "cell_type": "code",
   "execution_count": null,
   "metadata": {
    "collapsed": true
   },
   "outputs": [],
   "source": []
  },
  {
   "cell_type": "code",
   "execution_count": null,
   "metadata": {
    "collapsed": true
   },
   "outputs": [],
   "source": []
  },
  {
   "cell_type": "code",
   "execution_count": null,
   "metadata": {
    "collapsed": true
   },
   "outputs": [],
   "source": []
  },
  {
   "cell_type": "code",
   "execution_count": null,
   "metadata": {
    "collapsed": true
   },
   "outputs": [],
   "source": []
  },
  {
   "cell_type": "code",
   "execution_count": null,
   "metadata": {
    "collapsed": true
   },
   "outputs": [],
   "source": []
  },
  {
   "cell_type": "code",
   "execution_count": null,
   "metadata": {
    "collapsed": true
   },
   "outputs": [],
   "source": []
  },
  {
   "cell_type": "code",
   "execution_count": null,
   "metadata": {
    "collapsed": true
   },
   "outputs": [],
   "source": []
  },
  {
   "cell_type": "code",
   "execution_count": null,
   "metadata": {
    "collapsed": true
   },
   "outputs": [],
   "source": []
  },
  {
   "cell_type": "code",
   "execution_count": null,
   "metadata": {
    "collapsed": true
   },
   "outputs": [],
   "source": []
  },
  {
   "cell_type": "code",
   "execution_count": null,
   "metadata": {
    "collapsed": true
   },
   "outputs": [],
   "source": []
  }
 ],
 "metadata": {
  "kernelspec": {
   "display_name": "Python 3",
   "language": "python",
   "name": "python3"
  },
  "language_info": {
   "codemirror_mode": {
    "name": "ipython",
    "version": 3
   },
   "file_extension": ".py",
   "mimetype": "text/x-python",
   "name": "python",
   "nbconvert_exporter": "python",
   "pygments_lexer": "ipython3",
   "version": "3.5.1"
  }
 },
 "nbformat": 4,
 "nbformat_minor": 0
}
