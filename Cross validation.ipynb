{
 "cells": [
  {
   "cell_type": "code",
   "execution_count": 1,
   "metadata": {
    "collapsed": true
   },
   "outputs": [],
   "source": [
    "import pandas as pd\n",
    "import numpy as np"
   ]
  },
  {
   "cell_type": "code",
   "execution_count": 4,
   "metadata": {
    "collapsed": false
   },
   "outputs": [],
   "source": [
    "tb = pd.read_excel('cross validation.xlsx', index_col=None)"
   ]
  },
  {
   "cell_type": "code",
   "execution_count": 9,
   "metadata": {
    "collapsed": false
   },
   "outputs": [
    {
     "data": {
      "text/html": [
       "<div>\n",
       "<table border=\"1\" class=\"dataframe\">\n",
       "  <thead>\n",
       "    <tr style=\"text-align: right;\">\n",
       "      <th></th>\n",
       "      <th>Estimator</th>\n",
       "      <th>Year Control</th>\n",
       "      <th>Industry Control</th>\n",
       "      <th>Predicted Regressor</th>\n",
       "      <th>CV-RMSE (5)</th>\n",
       "      <th>CV-RMSE (10)</th>\n",
       "      <th>AIC</th>\n",
       "      <th>BIC</th>\n",
       "    </tr>\n",
       "  </thead>\n",
       "  <tbody>\n",
       "    <tr>\n",
       "      <th>0</th>\n",
       "      <td>OLS</td>\n",
       "      <td>No</td>\n",
       "      <td>No</td>\n",
       "      <td>No</td>\n",
       "      <td>2,350.14</td>\n",
       "      <td>2,266.80</td>\n",
       "      <td>4,252.54</td>\n",
       "      <td>4,290.40</td>\n",
       "    </tr>\n",
       "    <tr>\n",
       "      <th>1</th>\n",
       "      <td>OLS</td>\n",
       "      <td>Yes</td>\n",
       "      <td>No</td>\n",
       "      <td>No</td>\n",
       "      <td>2,288.05</td>\n",
       "      <td>2,135.72</td>\n",
       "      <td>4,256.19</td>\n",
       "      <td>4,304.39</td>\n",
       "    </tr>\n",
       "    <tr>\n",
       "      <th>2</th>\n",
       "      <td>OLS</td>\n",
       "      <td>Yes</td>\n",
       "      <td>Yes</td>\n",
       "      <td>No</td>\n",
       "      <td>2,663.63</td>\n",
       "      <td>2,234.01</td>\n",
       "      <td>4,256.58</td>\n",
       "      <td>4,318.54</td>\n",
       "    </tr>\n",
       "    <tr>\n",
       "      <th>3</th>\n",
       "      <td>MM</td>\n",
       "      <td>No</td>\n",
       "      <td>No</td>\n",
       "      <td>No</td>\n",
       "      <td>2,246.88</td>\n",
       "      <td>2,107.01</td>\n",
       "      <td>-</td>\n",
       "      <td>-</td>\n",
       "    </tr>\n",
       "    <tr>\n",
       "      <th>4</th>\n",
       "      <td>MM</td>\n",
       "      <td>Yes</td>\n",
       "      <td>No</td>\n",
       "      <td>No</td>\n",
       "      <td>2,284.12</td>\n",
       "      <td>2,119.07</td>\n",
       "      <td>-</td>\n",
       "      <td>-</td>\n",
       "    </tr>\n",
       "    <tr>\n",
       "      <th>5</th>\n",
       "      <td>MM</td>\n",
       "      <td>Yes</td>\n",
       "      <td>Yes</td>\n",
       "      <td>No</td>\n",
       "      <td>2,289.29</td>\n",
       "      <td>2,134.28</td>\n",
       "      <td>-</td>\n",
       "      <td>-</td>\n",
       "    </tr>\n",
       "    <tr>\n",
       "      <th>6</th>\n",
       "      <td>OLS</td>\n",
       "      <td>No</td>\n",
       "      <td>No</td>\n",
       "      <td>No</td>\n",
       "      <td>12.08</td>\n",
       "      <td>10.47</td>\n",
       "      <td>1,687.40</td>\n",
       "      <td>1,721.83</td>\n",
       "    </tr>\n",
       "    <tr>\n",
       "      <th>7</th>\n",
       "      <td>Tobit</td>\n",
       "      <td>No</td>\n",
       "      <td>No</td>\n",
       "      <td>No</td>\n",
       "      <td>11.47</td>\n",
       "      <td>10.46</td>\n",
       "      <td>1,317.54</td>\n",
       "      <td>1,355.40</td>\n",
       "    </tr>\n",
       "    <tr>\n",
       "      <th>8</th>\n",
       "      <td>Tobit</td>\n",
       "      <td>Yes</td>\n",
       "      <td>Yes</td>\n",
       "      <td>No</td>\n",
       "      <td>12.15</td>\n",
       "      <td>11.18</td>\n",
       "      <td>1,324.06</td>\n",
       "      <td>1,386.02</td>\n",
       "    </tr>\n",
       "    <tr>\n",
       "      <th>9</th>\n",
       "      <td>MM</td>\n",
       "      <td>No</td>\n",
       "      <td>No</td>\n",
       "      <td>Yes</td>\n",
       "      <td>2,226.91</td>\n",
       "      <td>2,128.25</td>\n",
       "      <td>-</td>\n",
       "      <td>-</td>\n",
       "    </tr>\n",
       "    <tr>\n",
       "      <th>10</th>\n",
       "      <td>MM</td>\n",
       "      <td>Yes</td>\n",
       "      <td>No</td>\n",
       "      <td>Yes</td>\n",
       "      <td>2,243.69</td>\n",
       "      <td>2,177.49</td>\n",
       "      <td>-</td>\n",
       "      <td>-</td>\n",
       "    </tr>\n",
       "    <tr>\n",
       "      <th>11</th>\n",
       "      <td>MM</td>\n",
       "      <td>Yes</td>\n",
       "      <td>Yes</td>\n",
       "      <td>Yes</td>\n",
       "      <td>2,341.05</td>\n",
       "      <td>2,036.66</td>\n",
       "      <td>-</td>\n",
       "      <td>-</td>\n",
       "    </tr>\n",
       "  </tbody>\n",
       "</table>\n",
       "</div>"
      ],
      "text/plain": [
       "   Estimator Year Control Industry Control Predicted Regressor  \\\n",
       "0        OLS           No               No                  No   \n",
       "1        OLS          Yes               No                  No   \n",
       "2        OLS          Yes              Yes                  No   \n",
       "3         MM           No               No                  No   \n",
       "4         MM          Yes               No                  No   \n",
       "5         MM          Yes              Yes                  No   \n",
       "6        OLS           No               No                  No   \n",
       "7      Tobit           No               No                  No   \n",
       "8      Tobit          Yes              Yes                  No   \n",
       "9         MM           No               No                 Yes   \n",
       "10        MM          Yes               No                 Yes   \n",
       "11        MM          Yes              Yes                 Yes   \n",
       "\n",
       "            CV-RMSE (5)         CV-RMSE (10)                  AIC  \\\n",
       "0              2,350.14             2,266.80             4,252.54   \n",
       "1              2,288.05             2,135.72             4,256.19   \n",
       "2              2,663.63             2,234.01             4,256.58   \n",
       "3              2,246.88             2,107.01                    -   \n",
       "4              2,284.12             2,119.07                    -   \n",
       "5              2,289.29             2,134.28                    -   \n",
       "6                 12.08                10.47             1,687.40   \n",
       "7                 11.47                10.46             1,317.54   \n",
       "8                 12.15                11.18             1,324.06   \n",
       "9              2,226.91             2,128.25                    -   \n",
       "10             2,243.69             2,177.49                    -   \n",
       "11             2,341.05             2,036.66                    -   \n",
       "\n",
       "                    BIC  \n",
       "0              4,290.40  \n",
       "1              4,304.39  \n",
       "2              4,318.54  \n",
       "3                     -  \n",
       "4                     -  \n",
       "5                     -  \n",
       "6              1,721.83  \n",
       "7              1,355.40  \n",
       "8              1,386.02  \n",
       "9                     -  \n",
       "10                    -  \n",
       "11                    -  "
      ]
     },
     "execution_count": 9,
     "metadata": {},
     "output_type": "execute_result"
    }
   ],
   "source": [
    "tb"
   ]
  },
  {
   "cell_type": "code",
   "execution_count": 6,
   "metadata": {
    "collapsed": true
   },
   "outputs": [],
   "source": [
    "tb = tb.fillna('-')"
   ]
  },
  {
   "cell_type": "code",
   "execution_count": 8,
   "metadata": {
    "collapsed": true
   },
   "outputs": [],
   "source": [
    "pd.options.display.float_format = '{:20,.2f}'.format"
   ]
  },
  {
   "cell_type": "code",
   "execution_count": 10,
   "metadata": {
    "collapsed": false
   },
   "outputs": [
    {
     "name": "stdout",
     "output_type": "stream",
     "text": [
      "\\begin{tabular}{cccccccc}\n",
      "\\toprule\n",
      "Estimator & Year Control & Industry Control & Predicted Regressor &          CV-RMSE (5) &         CV-RMSE (10) &                  AIC &                  BIC \\\\\n",
      "\\midrule\n",
      "      OLS &           No &               No &                  No &             2,350.14 &             2,266.80 &             4,252.54 &             4,290.40 \\\\\n",
      "      OLS &          Yes &               No &                  No &             2,288.05 &             2,135.72 &             4,256.19 &             4,304.39 \\\\\n",
      "      OLS &          Yes &              Yes &                  No &             2,663.63 &             2,234.01 &             4,256.58 &             4,318.54 \\\\\n",
      "       MM &           No &               No &                  No &             2,246.88 &             2,107.01 &                    - &                    - \\\\\n",
      "       MM &          Yes &               No &                  No &             2,284.12 &             2,119.07 &                    - &                    - \\\\\n",
      "       MM &          Yes &              Yes &                  No &             2,289.29 &             2,134.28 &                    - &                    - \\\\\n",
      "      OLS &           No &               No &                  No &                12.08 &                10.47 &             1,687.40 &             1,721.83 \\\\\n",
      "    Tobit &           No &               No &                  No &                11.47 &                10.46 &             1,317.54 &             1,355.40 \\\\\n",
      "    Tobit &          Yes &              Yes &                  No &                12.15 &                11.18 &             1,324.06 &             1,386.02 \\\\\n",
      "       MM &           No &               No &                 Yes &             2,226.91 &             2,128.25 &                    - &                    - \\\\\n",
      "       MM &          Yes &               No &                 Yes &             2,243.69 &             2,177.49 &                    - &                    - \\\\\n",
      "       MM &          Yes &              Yes &                 Yes &             2,341.05 &             2,036.66 &                    - &                    - \\\\\n",
      "\\bottomrule\n",
      "\\end{tabular}\n",
      "\n"
     ]
    }
   ],
   "source": [
    "print (tb.to_latex(index=False,column_format= 'cccccccc'))"
   ]
  },
  {
   "cell_type": "code",
   "execution_count": null,
   "metadata": {
    "collapsed": true
   },
   "outputs": [],
   "source": []
  },
  {
   "cell_type": "code",
   "execution_count": null,
   "metadata": {
    "collapsed": true
   },
   "outputs": [],
   "source": []
  },
  {
   "cell_type": "code",
   "execution_count": null,
   "metadata": {
    "collapsed": true
   },
   "outputs": [],
   "source": []
  },
  {
   "cell_type": "code",
   "execution_count": null,
   "metadata": {
    "collapsed": true
   },
   "outputs": [],
   "source": []
  },
  {
   "cell_type": "code",
   "execution_count": null,
   "metadata": {
    "collapsed": true
   },
   "outputs": [],
   "source": []
  },
  {
   "cell_type": "code",
   "execution_count": null,
   "metadata": {
    "collapsed": true
   },
   "outputs": [],
   "source": []
  },
  {
   "cell_type": "code",
   "execution_count": null,
   "metadata": {
    "collapsed": true
   },
   "outputs": [],
   "source": []
  },
  {
   "cell_type": "code",
   "execution_count": null,
   "metadata": {
    "collapsed": true
   },
   "outputs": [],
   "source": []
  },
  {
   "cell_type": "code",
   "execution_count": null,
   "metadata": {
    "collapsed": true
   },
   "outputs": [],
   "source": []
  },
  {
   "cell_type": "code",
   "execution_count": null,
   "metadata": {
    "collapsed": true
   },
   "outputs": [],
   "source": []
  },
  {
   "cell_type": "code",
   "execution_count": null,
   "metadata": {
    "collapsed": true
   },
   "outputs": [],
   "source": []
  },
  {
   "cell_type": "code",
   "execution_count": null,
   "metadata": {
    "collapsed": true
   },
   "outputs": [],
   "source": []
  },
  {
   "cell_type": "code",
   "execution_count": null,
   "metadata": {
    "collapsed": true
   },
   "outputs": [],
   "source": []
  },
  {
   "cell_type": "code",
   "execution_count": null,
   "metadata": {
    "collapsed": true
   },
   "outputs": [],
   "source": []
  },
  {
   "cell_type": "code",
   "execution_count": null,
   "metadata": {
    "collapsed": true
   },
   "outputs": [],
   "source": []
  }
 ],
 "metadata": {
  "kernelspec": {
   "display_name": "Python 3",
   "language": "python",
   "name": "python3"
  },
  "language_info": {
   "codemirror_mode": {
    "name": "ipython",
    "version": 3
   },
   "file_extension": ".py",
   "mimetype": "text/x-python",
   "name": "python",
   "nbconvert_exporter": "python",
   "pygments_lexer": "ipython3",
   "version": "3.5.1"
  }
 },
 "nbformat": 4,
 "nbformat_minor": 0
}
